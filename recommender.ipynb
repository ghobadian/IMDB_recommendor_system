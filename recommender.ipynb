{
 "cells": [
  {
   "cell_type": "code",
   "execution_count": 22,
   "id": "initial_id",
   "metadata": {
    "collapsed": true,
    "ExecuteTime": {
     "end_time": "2024-07-01T12:19:25.503765333Z",
     "start_time": "2024-07-01T12:19:25.364444768Z"
    }
   },
   "outputs": [],
   "source": [
    "import pandas as pd\n",
    "import numpy as np\n",
    "import matplotlib.pyplot as plt"
   ]
  },
  {
   "cell_type": "code",
   "outputs": [],
   "source": [
    "movies = pd.read_csv('movies.csv')"
   ],
   "metadata": {
    "collapsed": false,
    "ExecuteTime": {
     "end_time": "2024-07-01T12:19:25.568031781Z",
     "start_time": "2024-07-01T12:19:25.505467985Z"
    }
   },
   "id": "8bf3de757177054a",
   "execution_count": 23
  },
  {
   "cell_type": "markdown",
   "source": [
    "cleaning data: \n",
    "    - moving year in 'title' to a new column\n",
    "    - making list of genres"
   ],
   "metadata": {
    "collapsed": false
   },
   "id": "17379f29b61c9f98"
  },
  {
   "cell_type": "code",
   "outputs": [
    {
     "data": {
      "text/plain": "   movieId                        title  \\\n0        1                    Toy Story   \n1        2                      Jumanji   \n2        3             Grumpier Old Men   \n3        4            Waiting to Exhale   \n4        5  Father of the Bride Part II   \n\n                                              genres  year  \n0  [Adventure, Animation, Children, Comedy, Fantasy]  1995  \n1                     [Adventure, Children, Fantasy]  1995  \n2                                  [Comedy, Romance]  1995  \n3                           [Comedy, Drama, Romance]  1995  \n4                                           [Comedy]  1995  ",
      "text/html": "<div>\n<style scoped>\n    .dataframe tbody tr th:only-of-type {\n        vertical-align: middle;\n    }\n\n    .dataframe tbody tr th {\n        vertical-align: top;\n    }\n\n    .dataframe thead th {\n        text-align: right;\n    }\n</style>\n<table border=\"1\" class=\"dataframe\">\n  <thead>\n    <tr style=\"text-align: right;\">\n      <th></th>\n      <th>movieId</th>\n      <th>title</th>\n      <th>genres</th>\n      <th>year</th>\n    </tr>\n  </thead>\n  <tbody>\n    <tr>\n      <th>0</th>\n      <td>1</td>\n      <td>Toy Story</td>\n      <td>[Adventure, Animation, Children, Comedy, Fantasy]</td>\n      <td>1995</td>\n    </tr>\n    <tr>\n      <th>1</th>\n      <td>2</td>\n      <td>Jumanji</td>\n      <td>[Adventure, Children, Fantasy]</td>\n      <td>1995</td>\n    </tr>\n    <tr>\n      <th>2</th>\n      <td>3</td>\n      <td>Grumpier Old Men</td>\n      <td>[Comedy, Romance]</td>\n      <td>1995</td>\n    </tr>\n    <tr>\n      <th>3</th>\n      <td>4</td>\n      <td>Waiting to Exhale</td>\n      <td>[Comedy, Drama, Romance]</td>\n      <td>1995</td>\n    </tr>\n    <tr>\n      <th>4</th>\n      <td>5</td>\n      <td>Father of the Bride Part II</td>\n      <td>[Comedy]</td>\n      <td>1995</td>\n    </tr>\n  </tbody>\n</table>\n</div>"
     },
     "execution_count": 24,
     "metadata": {},
     "output_type": "execute_result"
    }
   ],
   "source": [
    "movies['year'] = movies['title'].str.extract('\\((\\d\\d\\d\\d)\\)', expand=False)\n",
    "movies['title'] = movies['title'].str.replace('(\\(\\d\\d\\d\\d\\))', '', regex=True)\n",
    "movies['title'] = movies['title'].apply(lambda x: x.strip())\n",
    "movies['genres'] = movies.genres.str.split('|')\n",
    "movies.head()"
   ],
   "metadata": {
    "collapsed": false,
    "ExecuteTime": {
     "end_time": "2024-07-01T12:19:25.665170624Z",
     "start_time": "2024-07-01T12:19:25.583827218Z"
    }
   },
   "id": "6560f591ef00ac6",
   "execution_count": 24
  },
  {
   "cell_type": "markdown",
   "source": [
    "getting input from user so that we can recommend some movies to that user"
   ],
   "metadata": {
    "collapsed": false
   },
   "id": "fca7eb5bf0a214a0"
  },
  {
   "cell_type": "code",
   "outputs": [
    {
     "data": {
      "text/plain": "                 title  rating\n0  Breakfast Club, The     5.0\n1            Toy Story     3.5\n2              Jumanji     2.0\n3         Pulp Fiction     5.0\n4                Akira     4.5",
      "text/html": "<div>\n<style scoped>\n    .dataframe tbody tr th:only-of-type {\n        vertical-align: middle;\n    }\n\n    .dataframe tbody tr th {\n        vertical-align: top;\n    }\n\n    .dataframe thead th {\n        text-align: right;\n    }\n</style>\n<table border=\"1\" class=\"dataframe\">\n  <thead>\n    <tr style=\"text-align: right;\">\n      <th></th>\n      <th>title</th>\n      <th>rating</th>\n    </tr>\n  </thead>\n  <tbody>\n    <tr>\n      <th>0</th>\n      <td>Breakfast Club, The</td>\n      <td>5.0</td>\n    </tr>\n    <tr>\n      <th>1</th>\n      <td>Toy Story</td>\n      <td>3.5</td>\n    </tr>\n    <tr>\n      <th>2</th>\n      <td>Jumanji</td>\n      <td>2.0</td>\n    </tr>\n    <tr>\n      <th>3</th>\n      <td>Pulp Fiction</td>\n      <td>5.0</td>\n    </tr>\n    <tr>\n      <th>4</th>\n      <td>Akira</td>\n      <td>4.5</td>\n    </tr>\n  </tbody>\n</table>\n</div>"
     },
     "execution_count": 25,
     "metadata": {},
     "output_type": "execute_result"
    }
   ],
   "source": [
    "user_input = [\n",
    "            {'title':'Breakfast Club, The', 'rating':5},\n",
    "            {'title':'Toy Story', 'rating':3.5},\n",
    "            {'title':'Jumanji', 'rating':2},\n",
    "            {'title':\"Pulp Fiction\", 'rating':5},\n",
    "            {'title':'Akira', 'rating':4.5}\n",
    "         ]\n",
    "user_input = pd.DataFrame(user_input)\n",
    "user_input"
   ],
   "metadata": {
    "collapsed": false,
    "ExecuteTime": {
     "end_time": "2024-07-01T12:19:25.671148234Z",
     "start_time": "2024-07-01T12:19:25.629061816Z"
    }
   },
   "id": "bc9fa194fc09e3ea",
   "execution_count": 25
  },
  {
   "cell_type": "markdown",
   "source": [
    "content based movie suggestion implementation"
   ],
   "metadata": {
    "collapsed": false
   },
   "id": "9d5ad0b744a7e85c"
  },
  {
   "cell_type": "markdown",
   "source": [
    "1 for each genre of each movie"
   ],
   "metadata": {
    "collapsed": false
   },
   "id": "c7ea53935e1cd7f1"
  },
  {
   "cell_type": "code",
   "outputs": [
    {
     "data": {
      "text/plain": "   movieId                        title  \\\n0        1                    Toy Story   \n1        2                      Jumanji   \n2        3             Grumpier Old Men   \n3        4            Waiting to Exhale   \n4        5  Father of the Bride Part II   \n\n                                              genres  year  Adventure  \\\n0  [Adventure, Animation, Children, Comedy, Fantasy]  1995        1.0   \n1                     [Adventure, Children, Fantasy]  1995        1.0   \n2                                  [Comedy, Romance]  1995        0.0   \n3                           [Comedy, Drama, Romance]  1995        0.0   \n4                                           [Comedy]  1995        0.0   \n\n   Animation  Children  Comedy  Fantasy  Romance  ...  Horror  Mystery  \\\n0        1.0       1.0     1.0      1.0      0.0  ...     0.0      0.0   \n1        0.0       1.0     0.0      1.0      0.0  ...     0.0      0.0   \n2        0.0       0.0     1.0      0.0      1.0  ...     0.0      0.0   \n3        0.0       0.0     1.0      0.0      1.0  ...     0.0      0.0   \n4        0.0       0.0     1.0      0.0      0.0  ...     0.0      0.0   \n\n   Sci-Fi  War  Musical  Documentary  IMAX  Western  Film-Noir  \\\n0     0.0  0.0      0.0          0.0   0.0      0.0        0.0   \n1     0.0  0.0      0.0          0.0   0.0      0.0        0.0   \n2     0.0  0.0      0.0          0.0   0.0      0.0        0.0   \n3     0.0  0.0      0.0          0.0   0.0      0.0        0.0   \n4     0.0  0.0      0.0          0.0   0.0      0.0        0.0   \n\n   (no genres listed)  \n0                 0.0  \n1                 0.0  \n2                 0.0  \n3                 0.0  \n4                 0.0  \n\n[5 rows x 24 columns]",
      "text/html": "<div>\n<style scoped>\n    .dataframe tbody tr th:only-of-type {\n        vertical-align: middle;\n    }\n\n    .dataframe tbody tr th {\n        vertical-align: top;\n    }\n\n    .dataframe thead th {\n        text-align: right;\n    }\n</style>\n<table border=\"1\" class=\"dataframe\">\n  <thead>\n    <tr style=\"text-align: right;\">\n      <th></th>\n      <th>movieId</th>\n      <th>title</th>\n      <th>genres</th>\n      <th>year</th>\n      <th>Adventure</th>\n      <th>Animation</th>\n      <th>Children</th>\n      <th>Comedy</th>\n      <th>Fantasy</th>\n      <th>Romance</th>\n      <th>...</th>\n      <th>Horror</th>\n      <th>Mystery</th>\n      <th>Sci-Fi</th>\n      <th>War</th>\n      <th>Musical</th>\n      <th>Documentary</th>\n      <th>IMAX</th>\n      <th>Western</th>\n      <th>Film-Noir</th>\n      <th>(no genres listed)</th>\n    </tr>\n  </thead>\n  <tbody>\n    <tr>\n      <th>0</th>\n      <td>1</td>\n      <td>Toy Story</td>\n      <td>[Adventure, Animation, Children, Comedy, Fantasy]</td>\n      <td>1995</td>\n      <td>1.0</td>\n      <td>1.0</td>\n      <td>1.0</td>\n      <td>1.0</td>\n      <td>1.0</td>\n      <td>0.0</td>\n      <td>...</td>\n      <td>0.0</td>\n      <td>0.0</td>\n      <td>0.0</td>\n      <td>0.0</td>\n      <td>0.0</td>\n      <td>0.0</td>\n      <td>0.0</td>\n      <td>0.0</td>\n      <td>0.0</td>\n      <td>0.0</td>\n    </tr>\n    <tr>\n      <th>1</th>\n      <td>2</td>\n      <td>Jumanji</td>\n      <td>[Adventure, Children, Fantasy]</td>\n      <td>1995</td>\n      <td>1.0</td>\n      <td>0.0</td>\n      <td>1.0</td>\n      <td>0.0</td>\n      <td>1.0</td>\n      <td>0.0</td>\n      <td>...</td>\n      <td>0.0</td>\n      <td>0.0</td>\n      <td>0.0</td>\n      <td>0.0</td>\n      <td>0.0</td>\n      <td>0.0</td>\n      <td>0.0</td>\n      <td>0.0</td>\n      <td>0.0</td>\n      <td>0.0</td>\n    </tr>\n    <tr>\n      <th>2</th>\n      <td>3</td>\n      <td>Grumpier Old Men</td>\n      <td>[Comedy, Romance]</td>\n      <td>1995</td>\n      <td>0.0</td>\n      <td>0.0</td>\n      <td>0.0</td>\n      <td>1.0</td>\n      <td>0.0</td>\n      <td>1.0</td>\n      <td>...</td>\n      <td>0.0</td>\n      <td>0.0</td>\n      <td>0.0</td>\n      <td>0.0</td>\n      <td>0.0</td>\n      <td>0.0</td>\n      <td>0.0</td>\n      <td>0.0</td>\n      <td>0.0</td>\n      <td>0.0</td>\n    </tr>\n    <tr>\n      <th>3</th>\n      <td>4</td>\n      <td>Waiting to Exhale</td>\n      <td>[Comedy, Drama, Romance]</td>\n      <td>1995</td>\n      <td>0.0</td>\n      <td>0.0</td>\n      <td>0.0</td>\n      <td>1.0</td>\n      <td>0.0</td>\n      <td>1.0</td>\n      <td>...</td>\n      <td>0.0</td>\n      <td>0.0</td>\n      <td>0.0</td>\n      <td>0.0</td>\n      <td>0.0</td>\n      <td>0.0</td>\n      <td>0.0</td>\n      <td>0.0</td>\n      <td>0.0</td>\n      <td>0.0</td>\n    </tr>\n    <tr>\n      <th>4</th>\n      <td>5</td>\n      <td>Father of the Bride Part II</td>\n      <td>[Comedy]</td>\n      <td>1995</td>\n      <td>0.0</td>\n      <td>0.0</td>\n      <td>0.0</td>\n      <td>1.0</td>\n      <td>0.0</td>\n      <td>0.0</td>\n      <td>...</td>\n      <td>0.0</td>\n      <td>0.0</td>\n      <td>0.0</td>\n      <td>0.0</td>\n      <td>0.0</td>\n      <td>0.0</td>\n      <td>0.0</td>\n      <td>0.0</td>\n      <td>0.0</td>\n      <td>0.0</td>\n    </tr>\n  </tbody>\n</table>\n<p>5 rows × 24 columns</p>\n</div>"
     },
     "execution_count": 26,
     "metadata": {},
     "output_type": "execute_result"
    }
   ],
   "source": [
    "movies_with_genres = movies.copy()\n",
    "for index, row in movies.iterrows():\n",
    "    for genre in row['genres']:\n",
    "        movies_with_genres.at[index, genre] = 1\n",
    "movies_with_genres = movies_with_genres.fillna(0)\n",
    "movies_with_genres.head()"
   ],
   "metadata": {
    "collapsed": false,
    "ExecuteTime": {
     "end_time": "2024-07-01T12:19:27.277843324Z",
     "start_time": "2024-07-01T12:19:25.629545455Z"
    }
   },
   "id": "b24e33374a2e3de7",
   "execution_count": 26
  },
  {
   "cell_type": "markdown",
   "source": [
    "finding more info about userInput by searching in movies_df"
   ],
   "metadata": {
    "collapsed": false
   },
   "id": "bd2b3c0ee9fdc569"
  },
  {
   "cell_type": "code",
   "outputs": [
    {
     "data": {
      "text/plain": "   movieId                title  rating\n0        1            Toy Story     3.5\n1        2              Jumanji     2.0\n2      296         Pulp Fiction     5.0\n3     1274                Akira     4.5\n4     1968  Breakfast Club, The     5.0",
      "text/html": "<div>\n<style scoped>\n    .dataframe tbody tr th:only-of-type {\n        vertical-align: middle;\n    }\n\n    .dataframe tbody tr th {\n        vertical-align: top;\n    }\n\n    .dataframe thead th {\n        text-align: right;\n    }\n</style>\n<table border=\"1\" class=\"dataframe\">\n  <thead>\n    <tr style=\"text-align: right;\">\n      <th></th>\n      <th>movieId</th>\n      <th>title</th>\n      <th>rating</th>\n    </tr>\n  </thead>\n  <tbody>\n    <tr>\n      <th>0</th>\n      <td>1</td>\n      <td>Toy Story</td>\n      <td>3.5</td>\n    </tr>\n    <tr>\n      <th>1</th>\n      <td>2</td>\n      <td>Jumanji</td>\n      <td>2.0</td>\n    </tr>\n    <tr>\n      <th>2</th>\n      <td>296</td>\n      <td>Pulp Fiction</td>\n      <td>5.0</td>\n    </tr>\n    <tr>\n      <th>3</th>\n      <td>1274</td>\n      <td>Akira</td>\n      <td>4.5</td>\n    </tr>\n    <tr>\n      <th>4</th>\n      <td>1968</td>\n      <td>Breakfast Club, The</td>\n      <td>5.0</td>\n    </tr>\n  </tbody>\n</table>\n</div>"
     },
     "execution_count": 27,
     "metadata": {},
     "output_type": "execute_result"
    }
   ],
   "source": [
    "user_movies = movies[movies['title'].isin(user_input['title'])]\n",
    "user_movies = user_movies.merge(user_input)\n",
    "user_movies = user_movies.drop(columns=['genres', 'year'])\n",
    "user_movies"
   ],
   "metadata": {
    "collapsed": false,
    "ExecuteTime": {
     "end_time": "2024-07-01T12:19:27.279618167Z",
     "start_time": "2024-07-01T12:19:27.241256439Z"
    }
   },
   "id": "1ff11c2d006d70ad",
   "execution_count": 27
  },
  {
   "cell_type": "markdown",
   "source": [
    "genre matrix for user movies"
   ],
   "metadata": {
    "collapsed": false
   },
   "id": "de94cee932bc2a28"
  },
  {
   "cell_type": "code",
   "outputs": [
    {
     "data": {
      "text/plain": "   Adventure  Animation  Children  Comedy  Fantasy  Romance  Drama  Action  \\\n0        1.0        1.0       1.0     1.0      1.0      0.0    0.0     0.0   \n1        1.0        0.0       1.0     0.0      1.0      0.0    0.0     0.0   \n2        0.0        0.0       0.0     1.0      0.0      0.0    1.0     0.0   \n3        1.0        1.0       0.0     0.0      0.0      0.0    0.0     1.0   \n4        0.0        0.0       0.0     1.0      0.0      0.0    1.0     0.0   \n\n   Crime  Thriller  Horror  Mystery  Sci-Fi  War  Musical  Documentary  IMAX  \\\n0    0.0       0.0     0.0      0.0     0.0  0.0      0.0          0.0   0.0   \n1    0.0       0.0     0.0      0.0     0.0  0.0      0.0          0.0   0.0   \n2    1.0       1.0     0.0      0.0     0.0  0.0      0.0          0.0   0.0   \n3    0.0       0.0     0.0      0.0     1.0  0.0      0.0          0.0   0.0   \n4    0.0       0.0     0.0      0.0     0.0  0.0      0.0          0.0   0.0   \n\n   Western  Film-Noir  (no genres listed)  \n0      0.0        0.0                 0.0  \n1      0.0        0.0                 0.0  \n2      0.0        0.0                 0.0  \n3      0.0        0.0                 0.0  \n4      0.0        0.0                 0.0  ",
      "text/html": "<div>\n<style scoped>\n    .dataframe tbody tr th:only-of-type {\n        vertical-align: middle;\n    }\n\n    .dataframe tbody tr th {\n        vertical-align: top;\n    }\n\n    .dataframe thead th {\n        text-align: right;\n    }\n</style>\n<table border=\"1\" class=\"dataframe\">\n  <thead>\n    <tr style=\"text-align: right;\">\n      <th></th>\n      <th>Adventure</th>\n      <th>Animation</th>\n      <th>Children</th>\n      <th>Comedy</th>\n      <th>Fantasy</th>\n      <th>Romance</th>\n      <th>Drama</th>\n      <th>Action</th>\n      <th>Crime</th>\n      <th>Thriller</th>\n      <th>Horror</th>\n      <th>Mystery</th>\n      <th>Sci-Fi</th>\n      <th>War</th>\n      <th>Musical</th>\n      <th>Documentary</th>\n      <th>IMAX</th>\n      <th>Western</th>\n      <th>Film-Noir</th>\n      <th>(no genres listed)</th>\n    </tr>\n  </thead>\n  <tbody>\n    <tr>\n      <th>0</th>\n      <td>1.0</td>\n      <td>1.0</td>\n      <td>1.0</td>\n      <td>1.0</td>\n      <td>1.0</td>\n      <td>0.0</td>\n      <td>0.0</td>\n      <td>0.0</td>\n      <td>0.0</td>\n      <td>0.0</td>\n      <td>0.0</td>\n      <td>0.0</td>\n      <td>0.0</td>\n      <td>0.0</td>\n      <td>0.0</td>\n      <td>0.0</td>\n      <td>0.0</td>\n      <td>0.0</td>\n      <td>0.0</td>\n      <td>0.0</td>\n    </tr>\n    <tr>\n      <th>1</th>\n      <td>1.0</td>\n      <td>0.0</td>\n      <td>1.0</td>\n      <td>0.0</td>\n      <td>1.0</td>\n      <td>0.0</td>\n      <td>0.0</td>\n      <td>0.0</td>\n      <td>0.0</td>\n      <td>0.0</td>\n      <td>0.0</td>\n      <td>0.0</td>\n      <td>0.0</td>\n      <td>0.0</td>\n      <td>0.0</td>\n      <td>0.0</td>\n      <td>0.0</td>\n      <td>0.0</td>\n      <td>0.0</td>\n      <td>0.0</td>\n    </tr>\n    <tr>\n      <th>2</th>\n      <td>0.0</td>\n      <td>0.0</td>\n      <td>0.0</td>\n      <td>1.0</td>\n      <td>0.0</td>\n      <td>0.0</td>\n      <td>1.0</td>\n      <td>0.0</td>\n      <td>1.0</td>\n      <td>1.0</td>\n      <td>0.0</td>\n      <td>0.0</td>\n      <td>0.0</td>\n      <td>0.0</td>\n      <td>0.0</td>\n      <td>0.0</td>\n      <td>0.0</td>\n      <td>0.0</td>\n      <td>0.0</td>\n      <td>0.0</td>\n    </tr>\n    <tr>\n      <th>3</th>\n      <td>1.0</td>\n      <td>1.0</td>\n      <td>0.0</td>\n      <td>0.0</td>\n      <td>0.0</td>\n      <td>0.0</td>\n      <td>0.0</td>\n      <td>1.0</td>\n      <td>0.0</td>\n      <td>0.0</td>\n      <td>0.0</td>\n      <td>0.0</td>\n      <td>1.0</td>\n      <td>0.0</td>\n      <td>0.0</td>\n      <td>0.0</td>\n      <td>0.0</td>\n      <td>0.0</td>\n      <td>0.0</td>\n      <td>0.0</td>\n    </tr>\n    <tr>\n      <th>4</th>\n      <td>0.0</td>\n      <td>0.0</td>\n      <td>0.0</td>\n      <td>1.0</td>\n      <td>0.0</td>\n      <td>0.0</td>\n      <td>1.0</td>\n      <td>0.0</td>\n      <td>0.0</td>\n      <td>0.0</td>\n      <td>0.0</td>\n      <td>0.0</td>\n      <td>0.0</td>\n      <td>0.0</td>\n      <td>0.0</td>\n      <td>0.0</td>\n      <td>0.0</td>\n      <td>0.0</td>\n      <td>0.0</td>\n      <td>0.0</td>\n    </tr>\n  </tbody>\n</table>\n</div>"
     },
     "execution_count": 28,
     "metadata": {},
     "output_type": "execute_result"
    }
   ],
   "source": [
    "user_movies_with_genres = movies_with_genres[movies_with_genres['title'].isin(user_movies['title'])]\n",
    "user_movies_with_genres = user_movies_with_genres.reset_index(drop=True) #todo remove if unnecessary\n",
    "user_movies_with_genres = user_movies_with_genres.drop(columns=['movieId', 'title', 'genres', 'year'])\n",
    "user_movies_with_genres"
   ],
   "metadata": {
    "collapsed": false,
    "ExecuteTime": {
     "end_time": "2024-07-01T12:19:27.480517703Z",
     "start_time": "2024-07-01T12:19:27.241752174Z"
    }
   },
   "id": "83ef5803cc754a1",
   "execution_count": 28
  },
  {
   "cell_type": "markdown",
   "source": [
    "finding the score of each genre based on the user input"
   ],
   "metadata": {
    "collapsed": false
   },
   "id": "e43d08dd373e46e4"
  },
  {
   "cell_type": "code",
   "outputs": [
    {
     "data": {
      "text/plain": "Adventure             13.5\nAnimation             10.0\nChildren               8.5\nComedy                11.5\nFantasy                8.5\nRomance                0.0\nDrama                  6.5\nAction                 5.0\nCrime                  2.0\nThriller               2.0\nHorror                 0.0\nMystery                0.0\nSci-Fi                 5.0\nWar                    0.0\nMusical                0.0\nDocumentary            0.0\nIMAX                   0.0\nWestern                0.0\nFilm-Noir              0.0\n(no genres listed)     0.0\ndtype: float64"
     },
     "execution_count": 29,
     "metadata": {},
     "output_type": "execute_result"
    }
   ],
   "source": [
    "genre_scores = user_movies_with_genres.transpose().dot(user_input['rating'])\n",
    "genre_scores"
   ],
   "metadata": {
    "collapsed": false,
    "ExecuteTime": {
     "end_time": "2024-07-01T12:19:27.551036649Z",
     "start_time": "2024-07-01T12:19:27.266724292Z"
    }
   },
   "id": "942e4f897f4828fe",
   "execution_count": 29
  },
  {
   "cell_type": "markdown",
   "source": [
    "genre matrix for all movies"
   ],
   "metadata": {
    "collapsed": false
   },
   "id": "bd75c6e60ca23566"
  },
  {
   "cell_type": "code",
   "outputs": [
    {
     "data": {
      "text/plain": "         Adventure  Animation  Children  Comedy  Fantasy  Romance  Drama  \\\nmovieId                                                                    \n1              1.0        1.0       1.0     1.0      1.0      0.0    0.0   \n2              1.0        0.0       1.0     0.0      1.0      0.0    0.0   \n3              0.0        0.0       0.0     1.0      0.0      1.0    0.0   \n4              0.0        0.0       0.0     1.0      0.0      1.0    1.0   \n5              0.0        0.0       0.0     1.0      0.0      0.0    0.0   \n...            ...        ...       ...     ...      ...      ...    ...   \n193581         0.0        1.0       0.0     1.0      1.0      0.0    0.0   \n193583         0.0        1.0       0.0     1.0      1.0      0.0    0.0   \n193585         0.0        0.0       0.0     0.0      0.0      0.0    1.0   \n193587         0.0        1.0       0.0     0.0      0.0      0.0    0.0   \n193609         0.0        0.0       0.0     1.0      0.0      0.0    0.0   \n\n         Action  Crime  Thriller  Horror  Mystery  Sci-Fi  War  Musical  \\\nmovieId                                                                   \n1           0.0    0.0       0.0     0.0      0.0     0.0  0.0      0.0   \n2           0.0    0.0       0.0     0.0      0.0     0.0  0.0      0.0   \n3           0.0    0.0       0.0     0.0      0.0     0.0  0.0      0.0   \n4           0.0    0.0       0.0     0.0      0.0     0.0  0.0      0.0   \n5           0.0    0.0       0.0     0.0      0.0     0.0  0.0      0.0   \n...         ...    ...       ...     ...      ...     ...  ...      ...   \n193581      1.0    0.0       0.0     0.0      0.0     0.0  0.0      0.0   \n193583      0.0    0.0       0.0     0.0      0.0     0.0  0.0      0.0   \n193585      0.0    0.0       0.0     0.0      0.0     0.0  0.0      0.0   \n193587      1.0    0.0       0.0     0.0      0.0     0.0  0.0      0.0   \n193609      0.0    0.0       0.0     0.0      0.0     0.0  0.0      0.0   \n\n         Documentary  IMAX  Western  Film-Noir  (no genres listed)  \nmovieId                                                             \n1                0.0   0.0      0.0        0.0                 0.0  \n2                0.0   0.0      0.0        0.0                 0.0  \n3                0.0   0.0      0.0        0.0                 0.0  \n4                0.0   0.0      0.0        0.0                 0.0  \n5                0.0   0.0      0.0        0.0                 0.0  \n...              ...   ...      ...        ...                 ...  \n193581           0.0   0.0      0.0        0.0                 0.0  \n193583           0.0   0.0      0.0        0.0                 0.0  \n193585           0.0   0.0      0.0        0.0                 0.0  \n193587           0.0   0.0      0.0        0.0                 0.0  \n193609           0.0   0.0      0.0        0.0                 0.0  \n\n[9742 rows x 20 columns]",
      "text/html": "<div>\n<style scoped>\n    .dataframe tbody tr th:only-of-type {\n        vertical-align: middle;\n    }\n\n    .dataframe tbody tr th {\n        vertical-align: top;\n    }\n\n    .dataframe thead th {\n        text-align: right;\n    }\n</style>\n<table border=\"1\" class=\"dataframe\">\n  <thead>\n    <tr style=\"text-align: right;\">\n      <th></th>\n      <th>Adventure</th>\n      <th>Animation</th>\n      <th>Children</th>\n      <th>Comedy</th>\n      <th>Fantasy</th>\n      <th>Romance</th>\n      <th>Drama</th>\n      <th>Action</th>\n      <th>Crime</th>\n      <th>Thriller</th>\n      <th>Horror</th>\n      <th>Mystery</th>\n      <th>Sci-Fi</th>\n      <th>War</th>\n      <th>Musical</th>\n      <th>Documentary</th>\n      <th>IMAX</th>\n      <th>Western</th>\n      <th>Film-Noir</th>\n      <th>(no genres listed)</th>\n    </tr>\n    <tr>\n      <th>movieId</th>\n      <th></th>\n      <th></th>\n      <th></th>\n      <th></th>\n      <th></th>\n      <th></th>\n      <th></th>\n      <th></th>\n      <th></th>\n      <th></th>\n      <th></th>\n      <th></th>\n      <th></th>\n      <th></th>\n      <th></th>\n      <th></th>\n      <th></th>\n      <th></th>\n      <th></th>\n      <th></th>\n    </tr>\n  </thead>\n  <tbody>\n    <tr>\n      <th>1</th>\n      <td>1.0</td>\n      <td>1.0</td>\n      <td>1.0</td>\n      <td>1.0</td>\n      <td>1.0</td>\n      <td>0.0</td>\n      <td>0.0</td>\n      <td>0.0</td>\n      <td>0.0</td>\n      <td>0.0</td>\n      <td>0.0</td>\n      <td>0.0</td>\n      <td>0.0</td>\n      <td>0.0</td>\n      <td>0.0</td>\n      <td>0.0</td>\n      <td>0.0</td>\n      <td>0.0</td>\n      <td>0.0</td>\n      <td>0.0</td>\n    </tr>\n    <tr>\n      <th>2</th>\n      <td>1.0</td>\n      <td>0.0</td>\n      <td>1.0</td>\n      <td>0.0</td>\n      <td>1.0</td>\n      <td>0.0</td>\n      <td>0.0</td>\n      <td>0.0</td>\n      <td>0.0</td>\n      <td>0.0</td>\n      <td>0.0</td>\n      <td>0.0</td>\n      <td>0.0</td>\n      <td>0.0</td>\n      <td>0.0</td>\n      <td>0.0</td>\n      <td>0.0</td>\n      <td>0.0</td>\n      <td>0.0</td>\n      <td>0.0</td>\n    </tr>\n    <tr>\n      <th>3</th>\n      <td>0.0</td>\n      <td>0.0</td>\n      <td>0.0</td>\n      <td>1.0</td>\n      <td>0.0</td>\n      <td>1.0</td>\n      <td>0.0</td>\n      <td>0.0</td>\n      <td>0.0</td>\n      <td>0.0</td>\n      <td>0.0</td>\n      <td>0.0</td>\n      <td>0.0</td>\n      <td>0.0</td>\n      <td>0.0</td>\n      <td>0.0</td>\n      <td>0.0</td>\n      <td>0.0</td>\n      <td>0.0</td>\n      <td>0.0</td>\n    </tr>\n    <tr>\n      <th>4</th>\n      <td>0.0</td>\n      <td>0.0</td>\n      <td>0.0</td>\n      <td>1.0</td>\n      <td>0.0</td>\n      <td>1.0</td>\n      <td>1.0</td>\n      <td>0.0</td>\n      <td>0.0</td>\n      <td>0.0</td>\n      <td>0.0</td>\n      <td>0.0</td>\n      <td>0.0</td>\n      <td>0.0</td>\n      <td>0.0</td>\n      <td>0.0</td>\n      <td>0.0</td>\n      <td>0.0</td>\n      <td>0.0</td>\n      <td>0.0</td>\n    </tr>\n    <tr>\n      <th>5</th>\n      <td>0.0</td>\n      <td>0.0</td>\n      <td>0.0</td>\n      <td>1.0</td>\n      <td>0.0</td>\n      <td>0.0</td>\n      <td>0.0</td>\n      <td>0.0</td>\n      <td>0.0</td>\n      <td>0.0</td>\n      <td>0.0</td>\n      <td>0.0</td>\n      <td>0.0</td>\n      <td>0.0</td>\n      <td>0.0</td>\n      <td>0.0</td>\n      <td>0.0</td>\n      <td>0.0</td>\n      <td>0.0</td>\n      <td>0.0</td>\n    </tr>\n    <tr>\n      <th>...</th>\n      <td>...</td>\n      <td>...</td>\n      <td>...</td>\n      <td>...</td>\n      <td>...</td>\n      <td>...</td>\n      <td>...</td>\n      <td>...</td>\n      <td>...</td>\n      <td>...</td>\n      <td>...</td>\n      <td>...</td>\n      <td>...</td>\n      <td>...</td>\n      <td>...</td>\n      <td>...</td>\n      <td>...</td>\n      <td>...</td>\n      <td>...</td>\n      <td>...</td>\n    </tr>\n    <tr>\n      <th>193581</th>\n      <td>0.0</td>\n      <td>1.0</td>\n      <td>0.0</td>\n      <td>1.0</td>\n      <td>1.0</td>\n      <td>0.0</td>\n      <td>0.0</td>\n      <td>1.0</td>\n      <td>0.0</td>\n      <td>0.0</td>\n      <td>0.0</td>\n      <td>0.0</td>\n      <td>0.0</td>\n      <td>0.0</td>\n      <td>0.0</td>\n      <td>0.0</td>\n      <td>0.0</td>\n      <td>0.0</td>\n      <td>0.0</td>\n      <td>0.0</td>\n    </tr>\n    <tr>\n      <th>193583</th>\n      <td>0.0</td>\n      <td>1.0</td>\n      <td>0.0</td>\n      <td>1.0</td>\n      <td>1.0</td>\n      <td>0.0</td>\n      <td>0.0</td>\n      <td>0.0</td>\n      <td>0.0</td>\n      <td>0.0</td>\n      <td>0.0</td>\n      <td>0.0</td>\n      <td>0.0</td>\n      <td>0.0</td>\n      <td>0.0</td>\n      <td>0.0</td>\n      <td>0.0</td>\n      <td>0.0</td>\n      <td>0.0</td>\n      <td>0.0</td>\n    </tr>\n    <tr>\n      <th>193585</th>\n      <td>0.0</td>\n      <td>0.0</td>\n      <td>0.0</td>\n      <td>0.0</td>\n      <td>0.0</td>\n      <td>0.0</td>\n      <td>1.0</td>\n      <td>0.0</td>\n      <td>0.0</td>\n      <td>0.0</td>\n      <td>0.0</td>\n      <td>0.0</td>\n      <td>0.0</td>\n      <td>0.0</td>\n      <td>0.0</td>\n      <td>0.0</td>\n      <td>0.0</td>\n      <td>0.0</td>\n      <td>0.0</td>\n      <td>0.0</td>\n    </tr>\n    <tr>\n      <th>193587</th>\n      <td>0.0</td>\n      <td>1.0</td>\n      <td>0.0</td>\n      <td>0.0</td>\n      <td>0.0</td>\n      <td>0.0</td>\n      <td>0.0</td>\n      <td>1.0</td>\n      <td>0.0</td>\n      <td>0.0</td>\n      <td>0.0</td>\n      <td>0.0</td>\n      <td>0.0</td>\n      <td>0.0</td>\n      <td>0.0</td>\n      <td>0.0</td>\n      <td>0.0</td>\n      <td>0.0</td>\n      <td>0.0</td>\n      <td>0.0</td>\n    </tr>\n    <tr>\n      <th>193609</th>\n      <td>0.0</td>\n      <td>0.0</td>\n      <td>0.0</td>\n      <td>1.0</td>\n      <td>0.0</td>\n      <td>0.0</td>\n      <td>0.0</td>\n      <td>0.0</td>\n      <td>0.0</td>\n      <td>0.0</td>\n      <td>0.0</td>\n      <td>0.0</td>\n      <td>0.0</td>\n      <td>0.0</td>\n      <td>0.0</td>\n      <td>0.0</td>\n      <td>0.0</td>\n      <td>0.0</td>\n      <td>0.0</td>\n      <td>0.0</td>\n    </tr>\n  </tbody>\n</table>\n<p>9742 rows × 20 columns</p>\n</div>"
     },
     "execution_count": 30,
     "metadata": {},
     "output_type": "execute_result"
    }
   ],
   "source": [
    "genres = movies_with_genres.set_index(movies_with_genres['movieId'])\n",
    "genres = genres.drop(columns= ['movieId', 'title','genres','year'])\n",
    "genres"
   ],
   "metadata": {
    "collapsed": false,
    "ExecuteTime": {
     "end_time": "2024-07-01T12:19:27.558312968Z",
     "start_time": "2024-07-01T12:19:27.309094086Z"
    }
   },
   "id": "5c3b7fe9e80fff7",
   "execution_count": 30
  },
  {
   "cell_type": "markdown",
   "source": [
    "ranking of each movie"
   ],
   "metadata": {
    "collapsed": false
   },
   "id": "260c265b23ef0ed4"
  },
  {
   "cell_type": "code",
   "outputs": [
    {
     "data": {
      "text/plain": "                                                     title  \\\nmovieId                                                      \n134853                                          Inside Out   \n32031                                               Robots   \n673                                              Space Jam   \n51939                  TMNT (Teenage Mutant Ninja Turtles)   \n26340    Twelve Tasks of Asterix, The (Les douze travau...   \n\n                                                    genres  year      rank  \nmovieId                                                                     \n134853   [Adventure, Animation, Children, Comedy, Drama...  2015  0.806897  \n32031    [Adventure, Animation, Children, Comedy, Fanta...  2005  0.786207  \n673      [Adventure, Animation, Children, Comedy, Fanta...  1996  0.786207  \n51939    [Action, Adventure, Animation, Children, Comed...  2007  0.786207  \n26340    [Action, Adventure, Animation, Children, Comed...  1976  0.786207  ",
      "text/html": "<div>\n<style scoped>\n    .dataframe tbody tr th:only-of-type {\n        vertical-align: middle;\n    }\n\n    .dataframe tbody tr th {\n        vertical-align: top;\n    }\n\n    .dataframe thead th {\n        text-align: right;\n    }\n</style>\n<table border=\"1\" class=\"dataframe\">\n  <thead>\n    <tr style=\"text-align: right;\">\n      <th></th>\n      <th>title</th>\n      <th>genres</th>\n      <th>year</th>\n      <th>rank</th>\n    </tr>\n    <tr>\n      <th>movieId</th>\n      <th></th>\n      <th></th>\n      <th></th>\n      <th></th>\n    </tr>\n  </thead>\n  <tbody>\n    <tr>\n      <th>134853</th>\n      <td>Inside Out</td>\n      <td>[Adventure, Animation, Children, Comedy, Drama...</td>\n      <td>2015</td>\n      <td>0.806897</td>\n    </tr>\n    <tr>\n      <th>32031</th>\n      <td>Robots</td>\n      <td>[Adventure, Animation, Children, Comedy, Fanta...</td>\n      <td>2005</td>\n      <td>0.786207</td>\n    </tr>\n    <tr>\n      <th>673</th>\n      <td>Space Jam</td>\n      <td>[Adventure, Animation, Children, Comedy, Fanta...</td>\n      <td>1996</td>\n      <td>0.786207</td>\n    </tr>\n    <tr>\n      <th>51939</th>\n      <td>TMNT (Teenage Mutant Ninja Turtles)</td>\n      <td>[Action, Adventure, Animation, Children, Comed...</td>\n      <td>2007</td>\n      <td>0.786207</td>\n    </tr>\n    <tr>\n      <th>26340</th>\n      <td>Twelve Tasks of Asterix, The (Les douze travau...</td>\n      <td>[Action, Adventure, Animation, Children, Comed...</td>\n      <td>1976</td>\n      <td>0.786207</td>\n    </tr>\n  </tbody>\n</table>\n</div>"
     },
     "execution_count": 31,
     "metadata": {},
     "output_type": "execute_result"
    }
   ],
   "source": [
    "movies_ranking = genres.dot(genre_scores) / genre_scores.sum()\n",
    "movies_ranking = movies_ranking.sort_values(ascending=False)\n",
    "movies_ranking = pd.DataFrame(movies_ranking)\n",
    "movies_ranking['score'] = movies_ranking[0]\n",
    "movies_ranking = movies_ranking.drop(columns='score')\n",
    "movies_ranking = movies.set_index('movieId').join(movies_ranking)\n",
    "movies_ranking = movies_ranking.rename(columns={0:'rank'})\n",
    "movies_ranking = movies_ranking.sort_values(ascending=False,by='rank')\n",
    "movies_ranking.head()"
   ],
   "metadata": {
    "collapsed": false,
    "ExecuteTime": {
     "end_time": "2024-07-01T12:19:27.560431950Z",
     "start_time": "2024-07-01T12:19:27.311747954Z"
    }
   },
   "id": "435618f8d0326f49",
   "execution_count": 31
  },
  {
   "cell_type": "markdown",
   "source": [],
   "metadata": {
    "collapsed": false
   },
   "id": "c6d8a196848d35aa"
  },
  {
   "cell_type": "markdown",
   "source": [
    "collaborative movie suggestion implementation"
   ],
   "metadata": {
    "collapsed": false
   },
   "id": "4fafc6da71a57587"
  },
  {
   "cell_type": "code",
   "outputs": [
    {
     "data": {
      "text/plain": "        userId  movieId  rating\n0            1        1     4.0\n1            1        3     4.0\n2            1        6     4.0\n3            1       47     5.0\n4            1       50     5.0\n...        ...      ...     ...\n100831     610   166534     4.0\n100832     610   168248     5.0\n100833     610   168250     5.0\n100834     610   168252     5.0\n100835     610   170875     3.0\n\n[100836 rows x 3 columns]",
      "text/html": "<div>\n<style scoped>\n    .dataframe tbody tr th:only-of-type {\n        vertical-align: middle;\n    }\n\n    .dataframe tbody tr th {\n        vertical-align: top;\n    }\n\n    .dataframe thead th {\n        text-align: right;\n    }\n</style>\n<table border=\"1\" class=\"dataframe\">\n  <thead>\n    <tr style=\"text-align: right;\">\n      <th></th>\n      <th>userId</th>\n      <th>movieId</th>\n      <th>rating</th>\n    </tr>\n  </thead>\n  <tbody>\n    <tr>\n      <th>0</th>\n      <td>1</td>\n      <td>1</td>\n      <td>4.0</td>\n    </tr>\n    <tr>\n      <th>1</th>\n      <td>1</td>\n      <td>3</td>\n      <td>4.0</td>\n    </tr>\n    <tr>\n      <th>2</th>\n      <td>1</td>\n      <td>6</td>\n      <td>4.0</td>\n    </tr>\n    <tr>\n      <th>3</th>\n      <td>1</td>\n      <td>47</td>\n      <td>5.0</td>\n    </tr>\n    <tr>\n      <th>4</th>\n      <td>1</td>\n      <td>50</td>\n      <td>5.0</td>\n    </tr>\n    <tr>\n      <th>...</th>\n      <td>...</td>\n      <td>...</td>\n      <td>...</td>\n    </tr>\n    <tr>\n      <th>100831</th>\n      <td>610</td>\n      <td>166534</td>\n      <td>4.0</td>\n    </tr>\n    <tr>\n      <th>100832</th>\n      <td>610</td>\n      <td>168248</td>\n      <td>5.0</td>\n    </tr>\n    <tr>\n      <th>100833</th>\n      <td>610</td>\n      <td>168250</td>\n      <td>5.0</td>\n    </tr>\n    <tr>\n      <th>100834</th>\n      <td>610</td>\n      <td>168252</td>\n      <td>5.0</td>\n    </tr>\n    <tr>\n      <th>100835</th>\n      <td>610</td>\n      <td>170875</td>\n      <td>3.0</td>\n    </tr>\n  </tbody>\n</table>\n<p>100836 rows × 3 columns</p>\n</div>"
     },
     "execution_count": 32,
     "metadata": {},
     "output_type": "execute_result"
    }
   ],
   "source": [
    "ratings = pd.read_csv('ratings.csv')\n",
    "ratings = ratings.drop(columns='timestamp')\n",
    "ratings"
   ],
   "metadata": {
    "collapsed": false,
    "ExecuteTime": {
     "end_time": "2024-07-01T12:19:27.608826806Z",
     "start_time": "2024-07-01T12:19:27.336406356Z"
    }
   },
   "id": "47896f7b35b914da",
   "execution_count": 32
  },
  {
   "cell_type": "code",
   "outputs": [
    {
     "data": {
      "text/plain": "      movieId                               title  year\n0           1                           Toy Story  1995\n1           2                             Jumanji  1995\n2           3                    Grumpier Old Men  1995\n3           4                   Waiting to Exhale  1995\n4           5         Father of the Bride Part II  1995\n...       ...                                 ...   ...\n9737   193581  Black Butler: Book of the Atlantic  2017\n9738   193583               No Game No Life: Zero  2017\n9739   193585                               Flint  2017\n9740   193587        Bungo Stray Dogs: Dead Apple  2018\n9741   193609        Andrew Dice Clay: Dice Rules  1991\n\n[9742 rows x 3 columns]",
      "text/html": "<div>\n<style scoped>\n    .dataframe tbody tr th:only-of-type {\n        vertical-align: middle;\n    }\n\n    .dataframe tbody tr th {\n        vertical-align: top;\n    }\n\n    .dataframe thead th {\n        text-align: right;\n    }\n</style>\n<table border=\"1\" class=\"dataframe\">\n  <thead>\n    <tr style=\"text-align: right;\">\n      <th></th>\n      <th>movieId</th>\n      <th>title</th>\n      <th>year</th>\n    </tr>\n  </thead>\n  <tbody>\n    <tr>\n      <th>0</th>\n      <td>1</td>\n      <td>Toy Story</td>\n      <td>1995</td>\n    </tr>\n    <tr>\n      <th>1</th>\n      <td>2</td>\n      <td>Jumanji</td>\n      <td>1995</td>\n    </tr>\n    <tr>\n      <th>2</th>\n      <td>3</td>\n      <td>Grumpier Old Men</td>\n      <td>1995</td>\n    </tr>\n    <tr>\n      <th>3</th>\n      <td>4</td>\n      <td>Waiting to Exhale</td>\n      <td>1995</td>\n    </tr>\n    <tr>\n      <th>4</th>\n      <td>5</td>\n      <td>Father of the Bride Part II</td>\n      <td>1995</td>\n    </tr>\n    <tr>\n      <th>...</th>\n      <td>...</td>\n      <td>...</td>\n      <td>...</td>\n    </tr>\n    <tr>\n      <th>9737</th>\n      <td>193581</td>\n      <td>Black Butler: Book of the Atlantic</td>\n      <td>2017</td>\n    </tr>\n    <tr>\n      <th>9738</th>\n      <td>193583</td>\n      <td>No Game No Life: Zero</td>\n      <td>2017</td>\n    </tr>\n    <tr>\n      <th>9739</th>\n      <td>193585</td>\n      <td>Flint</td>\n      <td>2017</td>\n    </tr>\n    <tr>\n      <th>9740</th>\n      <td>193587</td>\n      <td>Bungo Stray Dogs: Dead Apple</td>\n      <td>2018</td>\n    </tr>\n    <tr>\n      <th>9741</th>\n      <td>193609</td>\n      <td>Andrew Dice Clay: Dice Rules</td>\n      <td>1991</td>\n    </tr>\n  </tbody>\n</table>\n<p>9742 rows × 3 columns</p>\n</div>"
     },
     "execution_count": 33,
     "metadata": {},
     "output_type": "execute_result"
    }
   ],
   "source": [
    "movies = movies.drop(columns='genres')\n",
    "movies"
   ],
   "metadata": {
    "collapsed": false,
    "ExecuteTime": {
     "end_time": "2024-07-01T12:19:27.610827183Z",
     "start_time": "2024-07-01T12:19:27.455988560Z"
    }
   },
   "id": "c186846aaf3174f5",
   "execution_count": 33
  },
  {
   "cell_type": "code",
   "outputs": [
    {
     "data": {
      "text/plain": "                 title  rating\n0  Breakfast Club, The     5.0\n1            Toy Story     3.5\n2              Jumanji     2.0\n3         Pulp Fiction     5.0\n4                Akira     4.5",
      "text/html": "<div>\n<style scoped>\n    .dataframe tbody tr th:only-of-type {\n        vertical-align: middle;\n    }\n\n    .dataframe tbody tr th {\n        vertical-align: top;\n    }\n\n    .dataframe thead th {\n        text-align: right;\n    }\n</style>\n<table border=\"1\" class=\"dataframe\">\n  <thead>\n    <tr style=\"text-align: right;\">\n      <th></th>\n      <th>title</th>\n      <th>rating</th>\n    </tr>\n  </thead>\n  <tbody>\n    <tr>\n      <th>0</th>\n      <td>Breakfast Club, The</td>\n      <td>5.0</td>\n    </tr>\n    <tr>\n      <th>1</th>\n      <td>Toy Story</td>\n      <td>3.5</td>\n    </tr>\n    <tr>\n      <th>2</th>\n      <td>Jumanji</td>\n      <td>2.0</td>\n    </tr>\n    <tr>\n      <th>3</th>\n      <td>Pulp Fiction</td>\n      <td>5.0</td>\n    </tr>\n    <tr>\n      <th>4</th>\n      <td>Akira</td>\n      <td>4.5</td>\n    </tr>\n  </tbody>\n</table>\n</div>"
     },
     "execution_count": 34,
     "metadata": {},
     "output_type": "execute_result"
    }
   ],
   "source": [
    "user_input"
   ],
   "metadata": {
    "collapsed": false,
    "ExecuteTime": {
     "end_time": "2024-07-01T12:19:27.659796228Z",
     "start_time": "2024-07-01T12:19:27.473916538Z"
    }
   },
   "id": "ff576faf15a4a3c5",
   "execution_count": 34
  },
  {
   "cell_type": "code",
   "outputs": [
    {
     "data": {
      "text/plain": "   movieId                title  rating\n0        1            Toy Story     3.5\n1        2              Jumanji     2.0\n2      296         Pulp Fiction     5.0\n3     1274                Akira     4.5\n4     1968  Breakfast Club, The     5.0",
      "text/html": "<div>\n<style scoped>\n    .dataframe tbody tr th:only-of-type {\n        vertical-align: middle;\n    }\n\n    .dataframe tbody tr th {\n        vertical-align: top;\n    }\n\n    .dataframe thead th {\n        text-align: right;\n    }\n</style>\n<table border=\"1\" class=\"dataframe\">\n  <thead>\n    <tr style=\"text-align: right;\">\n      <th></th>\n      <th>movieId</th>\n      <th>title</th>\n      <th>rating</th>\n    </tr>\n  </thead>\n  <tbody>\n    <tr>\n      <th>0</th>\n      <td>1</td>\n      <td>Toy Story</td>\n      <td>3.5</td>\n    </tr>\n    <tr>\n      <th>1</th>\n      <td>2</td>\n      <td>Jumanji</td>\n      <td>2.0</td>\n    </tr>\n    <tr>\n      <th>2</th>\n      <td>296</td>\n      <td>Pulp Fiction</td>\n      <td>5.0</td>\n    </tr>\n    <tr>\n      <th>3</th>\n      <td>1274</td>\n      <td>Akira</td>\n      <td>4.5</td>\n    </tr>\n    <tr>\n      <th>4</th>\n      <td>1968</td>\n      <td>Breakfast Club, The</td>\n      <td>5.0</td>\n    </tr>\n  </tbody>\n</table>\n</div>"
     },
     "execution_count": 35,
     "metadata": {},
     "output_type": "execute_result"
    }
   ],
   "source": [
    "user_movies"
   ],
   "metadata": {
    "collapsed": false,
    "ExecuteTime": {
     "end_time": "2024-07-01T12:19:27.661407313Z",
     "start_time": "2024-07-01T12:19:27.488007850Z"
    }
   },
   "id": "c034fc69140bc84c",
   "execution_count": 35
  },
  {
   "cell_type": "code",
   "outputs": [
    {
     "data": {
      "text/plain": "       userId  movieId  rating\n0           1        1     4.0\n16          1      296     3.0\n320         4      296     1.0\n422         4     1968     4.0\n516         5        1     4.0\n...       ...      ...     ...\n99510     609      296     4.0\n99534     610        1     5.0\n99552     610      296     5.0\n99636     610     1274     5.0\n99664     610     1968     4.0\n\n[784 rows x 3 columns]",
      "text/html": "<div>\n<style scoped>\n    .dataframe tbody tr th:only-of-type {\n        vertical-align: middle;\n    }\n\n    .dataframe tbody tr th {\n        vertical-align: top;\n    }\n\n    .dataframe thead th {\n        text-align: right;\n    }\n</style>\n<table border=\"1\" class=\"dataframe\">\n  <thead>\n    <tr style=\"text-align: right;\">\n      <th></th>\n      <th>userId</th>\n      <th>movieId</th>\n      <th>rating</th>\n    </tr>\n  </thead>\n  <tbody>\n    <tr>\n      <th>0</th>\n      <td>1</td>\n      <td>1</td>\n      <td>4.0</td>\n    </tr>\n    <tr>\n      <th>16</th>\n      <td>1</td>\n      <td>296</td>\n      <td>3.0</td>\n    </tr>\n    <tr>\n      <th>320</th>\n      <td>4</td>\n      <td>296</td>\n      <td>1.0</td>\n    </tr>\n    <tr>\n      <th>422</th>\n      <td>4</td>\n      <td>1968</td>\n      <td>4.0</td>\n    </tr>\n    <tr>\n      <th>516</th>\n      <td>5</td>\n      <td>1</td>\n      <td>4.0</td>\n    </tr>\n    <tr>\n      <th>...</th>\n      <td>...</td>\n      <td>...</td>\n      <td>...</td>\n    </tr>\n    <tr>\n      <th>99510</th>\n      <td>609</td>\n      <td>296</td>\n      <td>4.0</td>\n    </tr>\n    <tr>\n      <th>99534</th>\n      <td>610</td>\n      <td>1</td>\n      <td>5.0</td>\n    </tr>\n    <tr>\n      <th>99552</th>\n      <td>610</td>\n      <td>296</td>\n      <td>5.0</td>\n    </tr>\n    <tr>\n      <th>99636</th>\n      <td>610</td>\n      <td>1274</td>\n      <td>5.0</td>\n    </tr>\n    <tr>\n      <th>99664</th>\n      <td>610</td>\n      <td>1968</td>\n      <td>4.0</td>\n    </tr>\n  </tbody>\n</table>\n<p>784 rows × 3 columns</p>\n</div>"
     },
     "execution_count": 50,
     "metadata": {},
     "output_type": "execute_result"
    }
   ],
   "source": [
    "user_movies_ratings = ratings[ratings['movieId'].isin(user_movies['movieId'])]\n",
    "user_movies_ratings"
   ],
   "metadata": {
    "collapsed": false,
    "ExecuteTime": {
     "end_time": "2024-07-01T12:24:38.176276778Z",
     "start_time": "2024-07-01T12:24:38.139609358Z"
    }
   },
   "id": "7da539100a2b569a",
   "execution_count": 50
  },
  {
   "cell_type": "code",
   "outputs": [
    {
     "data": {
      "text/plain": "[(91,\n         userId  movieId  rating\n  14121      91        1     4.0\n  14122      91        2     3.0\n  14173      91      296     4.5\n  14316      91     1274     5.0\n  14383      91     1968     3.0),\n (177,\n         userId  movieId  rating\n  24900     177        1     5.0\n  24901     177        2     3.5\n  24930     177      296     5.0\n  25069     177     1274     2.0\n  25129     177     1968     3.5),\n (219,\n         userId  movieId  rating\n  31524     219        1     3.5\n  31525     219        2     2.5\n  31554     219      296     4.0\n  31628     219     1274     2.5\n  31680     219     1968     3.0),\n (274,\n         userId  movieId  rating\n  39229     274        1     4.0\n  39230     274        2     3.5\n  39288     274      296     5.0\n  39448     274     1274     4.0\n  39549     274     1968     4.0),\n (298,\n         userId  movieId  rating\n  44535     298        1     2.0\n  44536     298        2     0.5\n  44555     298      296     4.5\n  44620     298     1274     4.0\n  44655     298     1968     3.5),\n (414,\n         userId  movieId  rating\n  62294     414        1     4.0\n  62295     414        2     3.0\n  62425     414      296     5.0\n  62769     414     1274     4.0\n  62957     414     1968     5.0),\n (474,\n         userId  movieId  rating\n  73092     474        1     4.0\n  73093     474        2     3.0\n  73172     474      296     4.0\n  73466     474     1274     2.0\n  73641     474     1968     3.5),\n (477,\n         userId  movieId  rating\n  75424     477        1     4.0\n  75425     477        2     4.0\n  75447     477      296     4.5\n  75558     477     1274     5.0\n  75613     477     1968     4.0),\n (480,\n         userId  movieId  rating\n  76227     480        1     3.0\n  76228     480        2     3.0\n  76273     480      296     4.0\n  76396     480     1274     4.0\n  76462     480     1968     3.5),\n (483,\n         userId  movieId  rating\n  77222     483        1     4.0\n  77223     483        2     4.0\n  77265     483      296     5.0\n  77375     483     1274     3.5\n  77431     483     1968     3.5),\n (599,\n         userId  movieId  rating\n  92623     599        1     3.0\n  92624     599        2     2.5\n  92742     599      296     5.0\n  93073     599     1274     5.0\n  93269     599     1968     3.5),\n (608,\n         userId  movieId  rating\n  98666     608        1     2.5\n  98667     608        2     2.0\n  98723     608      296     5.0\n  98882     608     1274     4.0\n  98980     608     1968     4.0),\n (50,\n        userId  movieId  rating\n  7112      50        1     3.0\n  7116      50      296     4.0\n  7158      50     1274     4.0\n  7175      50     1968     2.5),\n (57,\n        userId  movieId  rating\n  8035      57        1     5.0\n  8071      57      296     3.0\n  8230      57     1274     3.0\n  8321      57     1968     4.0),\n (68,\n         userId  movieId  rating\n  10360      68        1     2.5\n  10361      68        2     2.5\n  10419      68      296     2.0\n  10679      68     1968     3.0),\n (103,\n         userId  movieId  rating\n  15565     103        1     4.0\n  15566     103        2     4.0\n  15587     103      296     5.0\n  15684     103     1968     4.0),\n (135,\n         userId  movieId  rating\n  20336     135        1     4.0\n  20337     135        2     3.0\n  20357     135      296     4.0\n  20482     135     1968     4.0),\n (182,\n         userId  movieId  rating\n  26092     182        1     4.0\n  26152     182      296     5.0\n  26301     182     1274     5.0\n  26418     182     1968     5.0),\n (202,\n         userId  movieId  rating\n  29378     202        1     4.0\n  29379     202        2     4.0\n  29401     202      296     4.0\n  29597     202     1968     5.0),\n (217,\n         userId  movieId  rating\n  30885     217        1     4.0\n  30886     217        2     2.0\n  30932     217      296     2.0\n  31224     217     1968     4.0),\n (226,\n         userId  movieId  rating\n  33044     226        1     3.5\n  33045     226        2     3.0\n  33083     226      296     4.5\n  33217     226     1968     4.0),\n (288,\n         userId  movieId  rating\n  42114     288        1     4.5\n  42115     288        2     2.0\n  42150     288      296     5.0\n  42438     288     1968     3.0),\n (307,\n         userId  movieId  rating\n  46733     307        1     4.0\n  46734     307        2     2.5\n  46790     307      296     4.5\n  47011     307     1968     4.5),\n (318,\n         userId  movieId  rating\n  48984     318        2     3.5\n  49009     318      296     4.5\n  49091     318     1274     5.0\n  49126     318     1968     3.5),\n (322,\n         userId  movieId  rating\n  49974     322        1     3.5\n  49975     322        2     3.0\n  49983     322      296     5.0\n  50026     322     1968     3.0),\n (330,\n         userId  movieId  rating\n  50948     330        1     4.0\n  50949     330        2     1.5\n  50975     330      296     4.0\n  51094     330     1968     5.0),\n (357,\n         userId  movieId  rating\n  54123     357        1     5.0\n  54124     357        2     3.0\n  54148     357      296     4.5\n  54290     357     1968     4.0),\n (434,\n         userId  movieId  rating\n  67080     434        1     4.0\n  67081     434        2     2.5\n  67100     434      296     5.0\n  67154     434     1274     5.0),\n (448,\n         userId  movieId  rating\n  68655     448        1     5.0\n  68656     448        2     3.0\n  68694     448      296     5.0\n  68943     448     1968     3.0),\n (469,\n         userId  movieId  rating\n  72453     469        1     4.0\n  72478     469      296     5.0\n  72613     469     1274     4.0\n  72696     469     1968     5.0),\n (561,\n         userId  movieId  rating\n  86582     561        1     4.0\n  86583     561        2     4.0\n  86601     561      296     4.5\n  86710     561     1968     4.0),\n (600,\n         userId  movieId  rating\n  95101     600        1     2.5\n  95102     600        2     4.0\n  95154     600      296     4.5\n  95306     600     1274     3.5),\n (606,\n         userId  movieId  rating\n  97364     606        1     2.5\n  97418     606      296     5.0\n  97592     606     1274     4.0\n  97692     606     1968     4.0),\n (610,\n         userId  movieId  rating\n  99534     610        1     5.0\n  99552     610      296     5.0\n  99636     610     1274     5.0\n  99664     610     1968     4.0),\n (18,\n        userId  movieId  rating\n  1772      18        1     3.5\n  1773      18        2     3.0\n  1796      18      296     4.0),\n (19,\n        userId  movieId  rating\n  2274      19        1     4.0\n  2275      19        2     3.0\n  2629      19     1968     2.0),\n (21,\n        userId  movieId  rating\n  3219      21        1     3.5\n  3220      21        2     3.5\n  3231      21      296     3.5),\n (45,\n        userId  movieId  rating\n  6477      45        1     4.0\n  6511      45      296     5.0\n  6662      45     1968     4.0),\n (63,\n        userId  movieId  rating\n  9157      63        1     5.0\n  9172      63      296     5.0\n  9242      63     1968     4.0),\n (64,\n        userId  movieId  rating\n  9428      64        1     4.0\n  9466      64      296     4.5\n  9622      64     1968     3.5),\n (66,\n         userId  movieId  rating\n  9979       66        1     4.0\n  10002      66      296     5.0\n  10128      66     1968     4.0),\n (107,\n         userId  movieId  rating\n  16970     107        1     4.0\n  16971     107        2     5.0\n  16992     107      296     3.0),\n (122,\n         userId  movieId  rating\n  18831     122        2     4.0\n  18845     122      296     5.0\n  18900     122     1968     4.5),\n (132,\n         userId  movieId  rating\n  19919     132        1     2.0\n  19946     132      296     4.0\n  20048     132     1968     4.0),\n (140,\n         userId  movieId  rating\n  21083     140        1     3.0\n  21084     140        2     3.5\n  21119     140      296     4.0),\n (141,\n         userId  movieId  rating\n  21691     141        1     4.0\n  21700     141      296     4.0\n  21734     141     1968     4.0),\n (144,\n         userId  movieId  rating\n  21968     144        1     3.5\n  21969     144        2     3.0\n  21989     144      296     4.0),\n (153,\n         userId  movieId  rating\n  22425     153        1     2.0\n  22426     153        2     2.0\n  22429     153      296     3.0),\n (156,\n         userId  movieId  rating\n  22684     156        1     4.0\n  22707     156      296     5.0\n  22891     156     1968     3.5),\n (160,\n         userId  movieId  rating\n  23226     160        1     4.0\n  23227     160        2     4.0\n  23264     160      296     5.0),\n (166,\n         userId  movieId  rating\n  23864     166        1     5.0\n  23874     166      296     4.5\n  23932     166     1968     2.5),\n (198,\n         userId  movieId  rating\n  28361     198      296     5.0\n  28417     198     1274     4.0\n  28454     198     1968     3.0),\n (200,\n         userId  movieId  rating\n  28934     200        1     3.5\n  28949     200      296     5.0\n  29025     200     1968     4.0),\n (201,\n         userId  movieId  rating\n  29268     201        1     5.0\n  29283     201      296     5.0\n  29337     201     1968     5.0),\n (232,\n         userId  movieId  rating\n  33898     232        1     3.5\n  33899     232        2     4.0\n  33913     232      296     5.0),\n (240,\n         userId  movieId  rating\n  35580     240        1     5.0\n  35581     240        2     5.0\n  35631     240      296     2.0),\n (249,\n         userId  movieId  rating\n  36374     249        1     4.0\n  36375     249        2     4.0\n  36398     249      296     4.0),\n (266,\n         userId  movieId  rating\n  38665     266        1     2.0\n  38687     266      296     5.0\n  38781     266     1968     2.0),\n (275,\n         userId  movieId  rating\n  40575     275        1     5.0\n  40596     275      296     5.0\n  40749     275     1968     4.0),\n (282,\n         userId  movieId  rating\n  41460     282        1     4.5\n  41472     282      296     4.0\n  41533     282     1968     4.0),\n (292,\n         userId  movieId  rating\n  43491     292        1     4.0\n  43505     292      296     3.0\n  43586     292     1968     3.0),\n (294,\n         userId  movieId  rating\n  43958     294        2     3.0\n  43990     294      296     4.0\n  44184     294     1968     3.0),\n (304,\n         userId  movieId  rating\n  45728     304        1     5.0\n  45729     304        2     4.0\n  45768     304      296     5.0),\n (305,\n         userId  movieId  rating\n  45944     305        2     3.5\n  45962     305      296     5.0\n  46076     305     1968     5.0),\n (313,\n         userId  movieId  rating\n  48261     313      296     5.0\n  48336     313     1274     5.0\n  48389     313     1968     2.0),\n (323,\n         userId  movieId  rating\n  50081     323        1     3.5\n  50082     323        2     4.0\n  50112     323      296     4.0),\n (328,\n         userId  movieId  rating\n  50670     328        1     5.0\n  50681     328      296     5.0\n  50765     328     1968     2.5),\n (353,\n         userId  movieId  rating\n  53492     353        1     5.0\n  53493     353        2     4.0\n  53547     353      296     5.0),\n (359,\n         userId  movieId  rating\n  54547     359        1     4.0\n  54548     359        2     3.5\n  54553     359      296     4.0),\n (372,\n         userId  movieId  rating\n  56128     372        1     3.0\n  56180     372      296     4.0\n  56313     372     1274     1.0),\n (373,\n         userId  movieId  rating\n  56364     373        1     3.0\n  56365     373        2     3.0\n  56415     373      296     5.0),\n (380,\n         userId  movieId  rating\n  56878     380        1     5.0\n  56879     380        2     5.0\n  56920     380      296     5.0),\n (381,\n         userId  movieId  rating\n  58096     381        1     3.5\n  58097     381        2     4.0\n  58212     381     1968     5.0),\n (387,\n         userId  movieId  rating\n  59269     387      296     5.0\n  59453     387     1274     4.5\n  59540     387     1968     3.5),\n (391,\n         userId  movieId  rating\n  60405     391        1     3.0\n  60430     391      296     5.0\n  60603     391     1968     4.0),\n (411,\n         userId  movieId  rating\n  62009     411        1     5.0\n  62010     411        2     4.0\n  62071     411      296     5.0),\n (425,\n         userId  movieId  rating\n  65884     425        2     3.0\n  65914     425      296     4.0\n  66035     425     1968     3.5),\n (432,\n         userId  movieId  rating\n  66798     432        1     2.5\n  66799     432        2     4.0\n  66814     432      296     2.5),\n (462,\n         userId  movieId  rating\n  71544     462        1     1.5\n  71563     462      296     2.5\n  71678     462     1968     4.0),\n (470,\n         userId  movieId  rating\n  72918     470        1     4.0\n  72919     470        2     3.0\n  72954     470      296     3.0),\n (476,\n         userId  movieId  rating\n  75355     476        1     4.0\n  75356     476        2     4.0\n  75380     476      296     3.0),\n (484,\n         userId  movieId  rating\n  77950     484        1     4.5\n  77951     484        2     2.5\n  78032     484     1968     4.0),\n (489,\n         userId  movieId  rating\n  78471     489        2     2.5\n  78512     489      296     4.0\n  78699     489     1968     4.0),\n (500,\n         userId  movieId  rating\n  79907     500        1     4.0\n  79942     500     1274     4.0\n  79957     500     1968     4.0),\n (504,\n         userId  movieId  rating\n  80168     504        1     4.0\n  80171     504      296     4.0\n  80184     504     1968     4.0),\n (514,\n         userId  movieId  rating\n  81082     514        1     4.0\n  81096     514      296     4.0\n  81190     514     1968     4.0),\n (525,\n         userId  movieId  rating\n  82613     525        1     4.0\n  82614     525        2     3.5\n  82713     525     1968     4.5),\n (555,\n         userId  movieId  rating\n  85291     555        1     4.0\n  85325     555      296     4.0\n  85541     555     1968     5.0),\n (559,\n         userId  movieId  rating\n  85984     559        1     5.0\n  85985     559        2     4.0\n  86029     559      296     3.0),\n (560,\n         userId  movieId  rating\n  86124     560        1     3.0\n  86140     560      296     4.0\n  86177     560     1274     3.5),\n (562,\n         userId  movieId  rating\n  87087     562        1     4.5\n  87093     562      296     5.0\n  87147     562     1968     5.0),\n (570,\n         userId  movieId  rating\n  88219     570        1     4.0\n  88220     570        2     3.5\n  88341     570     1968     4.0),\n (573,\n         userId  movieId  rating\n  88677     573        1     5.0\n  88678     573        2     4.5\n  88693     573      296     5.0),\n (590,\n         userId  movieId  rating\n  90517     590        1     4.0\n  90518     590        2     2.5\n  90546     590      296     4.5),\n (603,\n         userId  movieId  rating\n  96100     603        1     4.0\n  96171     603      296     5.0\n  96414     603     1274     1.0),\n (604,\n         userId  movieId  rating\n  97043     604        1     3.0\n  97044     604        2     5.0\n  97103     604      296     5.0),\n (605,\n         userId  movieId  rating\n  97143     605        1     4.0\n  97144     605        2     3.5\n  97151     605      296     2.0),\n (607,\n         userId  movieId  rating\n  98479     607        1     4.0\n  98496     607      296     3.0\n  98574     607     1968     5.0),\n (1,\n      userId  movieId  rating\n  0        1        1     4.0\n  16       1      296     3.0),\n (4,\n       userId  movieId  rating\n  320       4      296     1.0\n  422       4     1968     4.0),\n (5,\n       userId  movieId  rating\n  516       5        1     4.0\n  533       5      296     5.0),\n (6,\n       userId  movieId  rating\n  560       6        2     4.0\n  692       6      296     2.0),\n (8,\n        userId  movieId  rating\n  1026       8        2     4.0\n  1049       8      296     4.0),\n (15,\n        userId  movieId  rating\n  1434      15        1     2.5\n  1442      15      296     4.0),\n (17,\n        userId  movieId  rating\n  1667      17        1     4.5\n  1676      17      296     5.0),\n (23,\n        userId  movieId  rating\n  3789      23      296     3.5\n  3835      23     1274     4.0),\n (27,\n        userId  movieId  rating\n  4059      27        1     3.0\n  4060      27        2     4.0),\n (32,\n        userId  movieId  rating\n  4929      32        1     3.0\n  4961      32      296     5.0),\n (33,\n        userId  movieId  rating\n  5031      33        1     3.0\n  5059      33      296     5.0),\n (39,\n        userId  movieId  rating\n  5459      39      296     5.0\n  5517      39     1968     5.0),\n (40,\n        userId  movieId  rating\n  5555      40        1     5.0\n  5608      40      296     5.0),\n (42,\n        userId  movieId  rating\n  5917      42      296     5.0\n  6087      42     1968     4.0),\n (43,\n        userId  movieId  rating\n  6315      43        1     5.0\n  6360      43      296     3.0),\n (54,\n        userId  movieId  rating\n  7931      54        1     3.0\n  7943      54      296     3.0),\n (62,\n        userId  movieId  rating\n  8791      62        2     4.0\n  8797      62      296     4.5),\n (76,\n         userId  movieId  rating\n  12264      76        1     0.5\n  12271      76      296     4.5),\n (78,\n         userId  movieId  rating\n  12412      78        1     4.0\n  12418      78      296     4.0),\n (82,\n         userId  movieId  rating\n  12730      82        1     2.5\n  12731      82        2     3.0),\n (93,\n         userId  movieId  rating\n  14720      93        1     3.0\n  14721      93        2     5.0),\n (94,\n         userId  movieId  rating\n  14817      94        2     4.0\n  14844      94      296     4.0),\n (95,\n         userId  movieId  rating\n  14912      95     1274     5.0\n  14929      95     1968     4.5),\n (96,\n         userId  movieId  rating\n  15041      96        1     5.0\n  15049      96      296     5.0),\n (100,\n         userId  movieId  rating\n  15319     100      296     3.5\n  15388     100     1968     4.5),\n (105,\n         userId  movieId  rating\n  16226     105      296     5.0\n  16289     105     1274     3.5),\n (112,\n         userId  movieId  rating\n  17904     112        1     3.0\n  17905     112        2     1.5),\n (117,\n         userId  movieId  rating\n  18349     117        2     3.0\n  18412     117      296     4.0),\n (119,\n         userId  movieId  rating\n  18536     119        1     3.5\n  18542     119      296     4.0),\n (121,\n         userId  movieId  rating\n  18773     121        1     4.0\n  18803     121      296     4.0),\n (124,\n         userId  movieId  rating\n  19179     124        1     4.0\n  19185     124      296     4.5),\n (125,\n         userId  movieId  rating\n  19229     125        2     4.0\n  19235     125      296     4.5),\n (130,\n         userId  movieId  rating\n  19822     130        1     3.0\n  19834     130      296     4.0),\n (134,\n         userId  movieId  rating\n  20301     134        1     3.0\n  20318     134      296     4.0),\n (137,\n         userId  movieId  rating\n  20726     137        1     4.0\n  20733     137      296     3.0),\n (145,\n         userId  movieId  rating\n  22096     145        1     5.0\n  22106     145      296     4.0),\n (149,\n         userId  movieId  rating\n  22219     149        2     1.0\n  22254     149     1274     1.0),\n (155,\n         userId  movieId  rating\n  22638     155        1     3.0\n  22659     155     1968     2.0),\n (159,\n         userId  movieId  rating\n  23129     159        1     4.5\n  23135     159      296     0.5),\n (167,\n         userId  movieId  rating\n  24054     167        1     3.5\n  24065     167      296     3.0),\n (169,\n         userId  movieId  rating\n  24321     169        1     4.5\n  24322     169        2     4.0),\n (171,\n         userId  movieId  rating\n  24640     171        1     5.0\n  24654     171      296     5.0),\n (178,\n         userId  movieId  rating\n  25804     178        1     4.0\n  25813     178      296     4.5),\n (179,\n         userId  movieId  rating\n  25881     179        1     4.0\n  25909     179      296     4.0),\n (186,\n         userId  movieId  rating\n  27307     186        1     4.0\n  27308     186        2     4.0),\n (187,\n         userId  movieId  rating\n  27551     187      296     4.5\n  27604     187     1274     4.0),\n (191,\n         userId  movieId  rating\n  27925     191        1     4.0\n  27983     191      296     5.0),\n (193,\n         userId  movieId  rating\n  28032     193        1     2.0\n  28034     193      296     4.0),\n (195,\n         userId  movieId  rating\n  28103     195      296     5.0\n  28172     195     1968     3.0),\n (197,\n         userId  movieId  rating\n  28310     197      296     5.0\n  28332     197     1968     4.0),\n (212,\n         userId  movieId  rating\n  30271     212      296     3.5\n  30303     212     1968     3.0),\n (215,\n         userId  movieId  rating\n  30628     215      296     3.5\n  30666     215     1968     5.0),\n (216,\n         userId  movieId  rating\n  30721     216        1     3.0\n  30792     216     1968     2.0),\n (220,\n         userId  movieId  rating\n  32052     220        1     5.0\n  32065     220      296     5.0),\n (221,\n         userId  movieId  rating\n  32259     221        2     3.5\n  32271     221      296     5.0),\n (222,\n         userId  movieId  rating\n  32590     222        2     2.5\n  32602     222      296     4.0),\n (223,\n         userId  movieId  rating\n  32840     223        1     3.5\n  32845     223      296     3.0),\n (229,\n         userId  movieId  rating\n  33670     229        1     5.0\n  33693     229      296     5.0),\n (230,\n         userId  movieId  rating\n  33735     230        2     2.5\n  33796     230     1968     2.5),\n (233,\n         userId  movieId  rating\n  34760     233        1     3.0\n  34765     233      296     4.0),\n (239,\n         userId  movieId  rating\n  35301     239        1     4.0\n  35321     239      296     5.0),\n (247,\n         userId  movieId  rating\n  36173     247        1     5.0\n  36182     247      296     4.0),\n (254,\n         userId  movieId  rating\n  37555     254        1     4.5\n  37565     254      296     5.0),\n (260,\n         userId  movieId  rating\n  37984     260      296     4.5\n  38014     260     1274     4.0),\n (263,\n         userId  movieId  rating\n  38236     263        1     4.0\n  38251     263      296     3.0),\n (273,\n         userId  movieId  rating\n  39174     273        1     5.0\n  39192     273      296     4.0),\n (276,\n         userId  movieId  rating\n  40978     276        1     4.0\n  40979     276        2     4.0),\n (279,\n         userId  movieId  rating\n  41067     279        1     3.0\n  41072     279      296     5.0),\n (284,\n         userId  movieId  rating\n  41732     284        2     4.0\n  41770     284      296     4.0),\n (285,\n         userId  movieId  rating\n  41821     285      296     4.0\n  41842     285     1968     5.0),\n (290,\n         userId  movieId  rating\n  43193     290        1     4.0\n  43209     290      296     5.0),\n (314,\n         userId  movieId  rating\n  48581     314        1     3.0\n  48632     314      296     1.0),\n (325,\n         userId  movieId  rating\n  50220     325      296     5.0\n  50317     325     1968     3.0),\n (332,\n         userId  movieId  rating\n  51363     332        1     4.0\n  51374     332      296     4.0),\n (334,\n         userId  movieId  rating\n  51655     334        1     3.5\n  51662     334      296     4.0),\n (336,\n         userId  movieId  rating\n  51837     336        1     4.0\n  51848     336      296     5.0),\n (339,\n         userId  movieId  rating\n  52009     339        1     4.0\n  52016     339      296     2.5),\n (346,\n         userId  movieId  rating\n  52723     346      296     3.5\n  52776     346     1968     4.0),\n (347,\n         userId  movieId  rating\n  52880     347        1     5.0\n  52881     347        2     3.0),\n (354,\n         userId  movieId  rating\n  53595     354      296     4.5\n  53673     354     1968     4.0),\n (367,\n         userId  movieId  rating\n  55211     367        1     5.0\n  55273     367     1968     5.0),\n (368,\n         userId  movieId  rating\n  55434     368      296     5.0\n  55632     368     1968     3.0),\n (370,\n         userId  movieId  rating\n  56002     370      296     5.0\n  56033     370     1968     4.0),\n (382,\n         userId  movieId  rating\n  58570     382        1     4.5\n  58577     382      296     5.0),\n (385,\n         userId  movieId  rating\n  58965     385        1     4.0\n  59002     385      296     4.0),\n (395,\n         userId  movieId  rating\n  60962     395        2     3.0\n  60980     395      296     3.0),\n (399,\n         userId  movieId  rating\n  61120     399        1     4.0\n  61123     399      296     5.0),\n (420,\n         userId  movieId  rating\n  65452     420        1     4.0\n  65455     420      296     4.0),\n (422,\n         userId  movieId  rating\n  65630     422        1     4.0\n  65654     422     1968     2.0),\n (424,\n         userId  movieId  rating\n  65756     424      296     4.5\n  65793     424     1968     3.5),\n (426,\n         userId  movieId  rating\n  66190     426        2     4.5\n  66194     426      296     3.5),\n (428,\n         userId  movieId  rating\n  66387     428      296     4.5\n  66441     428     1274     4.5),\n (436,\n         userId  movieId  rating\n  67355     436        1     4.0\n  67356     436        2     4.0),\n (443,\n         userId  movieId  rating\n  68337     443        1     4.0\n  68340     443      296     4.0),\n (446,\n         userId  movieId  rating\n  68493     446        2     3.0\n  68531     446      296     4.0),\n (447,\n         userId  movieId  rating\n  68577     447        2     5.0\n  68599     447      296     5.0),\n (453,\n         userId  movieId  rating\n  70844     453        1     5.0\n  70865     453      296     5.0),\n (458,\n         userId  movieId  rating\n  71350     458        2     4.0\n  71377     458      296     4.0),\n (460,\n         userId  movieId  rating\n  71435     460        1     4.5\n  71447     460     1968     4.0),\n (468,\n         userId  movieId  rating\n  72420     468        1     4.0\n  72439     468      296     3.0),\n (471,\n         userId  movieId  rating\n  72998     471        1     5.0\n  72999     471      296     4.0),\n (482,\n         userId  movieId  rating\n  77094     482        2     4.5\n  77139     482     1968     4.0),\n (490,\n         userId  movieId  rating\n  79119     490        1     3.5\n  79124     490      296     4.0),\n (503,\n         userId  movieId  rating\n  80075     503      296     5.0\n  80102     503     1968     2.5),\n (509,\n         userId  movieId  rating\n  80373     509        1     4.0\n  80387     509      296     3.5),\n (512,\n         userId  movieId  rating\n  81000     512        2     3.0\n  81017     512      296     5.0),\n (517,\n         userId  movieId  rating\n  81531     517        1     4.0\n  81532     517        2     3.0),\n (522,\n         userId  movieId  rating\n  82207     522        1     3.0\n  82216     522      296     5.0),\n (527,\n         userId  movieId  rating\n  83171     527        2     4.0\n  83241     527     1968     5.0),\n (528,\n         userId  movieId  rating\n  83338     528        1     2.5\n  83341     528      296     4.0),\n (534,\n         userId  movieId  rating\n  83573     534        1     4.0\n  83574     534        2     4.5),\n (558,\n         userId  movieId  rating\n  85930     558      296     3.0\n  85944     558     1968     5.0),\n (563,\n         userId  movieId  rating\n  87318     563        2     2.5\n  87347     563     1968     5.0),\n (566,\n         userId  movieId  rating\n  87717     566        2     4.0\n  87748     566      296     4.0),\n (567,\n         userId  movieId  rating\n  87791     567        1     3.5\n  87815     567     1274     0.5),\n (580,\n         userId  movieId  rating\n  89316     580        1     3.0\n  89339     580      296     5.0),\n (584,\n         userId  movieId  rating\n  89904     584        1     5.0\n  89945     584      296     3.0),\n (587,\n         userId  movieId  rating\n  90256     587        1     5.0\n  90268     587      296     5.0),\n (592,\n         userId  movieId  rating\n  91299     592        2     4.0\n  91335     592      296     4.0),\n (596,\n         userId  movieId  rating\n  91748     596        1     4.0\n  91832     596     1968     3.5),\n (597,\n         userId  movieId  rating\n  92159     597        1     4.0\n  92419     597     1968     5.0),\n (602,\n         userId  movieId  rating\n  95965     602        2     4.0\n  96029     602      296     5.0),\n (609,\n         userId  movieId  rating\n  99497     609        1     3.0\n  99510     609      296     4.0),\n (7,\n       userId  movieId  rating\n  874       7        1     4.5),\n (10,\n        userId  movieId  rating\n  1119      10      296     1.0),\n (14,\n        userId  movieId  rating\n  1403      14      296     3.0),\n (16,\n        userId  movieId  rating\n  1575      16      296     3.0),\n (20,\n        userId  movieId  rating\n  2977      20        2     3.0),\n (24,\n        userId  movieId  rating\n  3907      24      296     4.0),\n (26,\n        userId  movieId  rating\n  4048      26      296     4.0),\n (28,\n        userId  movieId  rating\n  4215      28      296     4.5),\n (29,\n        userId  movieId  rating\n  4768      29      296     3.5),\n (31,\n        userId  movieId  rating\n  4879      31        1     5.0),\n (37,\n        userId  movieId  rating\n  5361      37      296     5.0),\n (38,\n        userId  movieId  rating\n  5407      38      296     3.0),\n (41,\n        userId  movieId  rating\n  5664      41      296     5.0),\n (44,\n        userId  movieId  rating\n  6429      44        1     3.0),\n (46,\n        userId  movieId  rating\n  6876      46        1     5.0),\n (47,\n        userId  movieId  rating\n  6945      47     1968     2.5),\n (51,\n        userId  movieId  rating\n  7422      51        2     4.5),\n (56,\n        userId  movieId  rating\n  8009      56      296     4.0),\n (58,\n        userId  movieId  rating\n  8560      58      296     5.0),\n (67,\n         userId  movieId  rating\n  10325      67      296     4.5),\n (69,\n         userId  movieId  rating\n  11622      69      296     5.0),\n (70,\n         userId  movieId  rating\n  11702      70     1968     4.0),\n (71,\n         userId  movieId  rating\n  11728      71        1     5.0),\n (72,\n         userId  movieId  rating\n  11770      72      296     4.5),\n (73,\n         userId  movieId  rating\n  11808      73        1     4.5),\n (74,\n         userId  movieId  rating\n  12022      74      296     5.0),\n (81,\n         userId  movieId  rating\n  12715      81      296     3.0),\n (84,\n         userId  movieId  rating\n  13137      84      296     4.0),\n (86,\n         userId  movieId  rating\n  13402      86        1     4.0),\n (89,\n         userId  movieId  rating\n  13549      89        1     3.0),\n (90,\n         userId  movieId  rating\n  14067      90        1     3.0),\n (98,\n         userId  movieId  rating\n  15155      98        1     4.5),\n (99,\n         userId  movieId  rating\n  15280      99      296     5.0),\n (102,\n         userId  movieId  rating\n  15534     102      296     5.0),\n (104,\n         userId  movieId  rating\n  15942     104        2     3.0),\n (108,\n         userId  movieId  rating\n  17027     108     1968     4.0),\n (109,\n         userId  movieId  rating\n  17131     109      296     5.0),\n (110,\n         userId  movieId  rating\n  17212     110      296     4.5),\n (115,\n         userId  movieId  rating\n  18158     115      296     5.0),\n (118,\n         userId  movieId  rating\n  18516     118      296     4.0),\n (123,\n         userId  movieId  rating\n  19126     123      296     4.0),\n (126,\n         userId  movieId  rating\n  19602     126      296     1.0),\n (129,\n         userId  movieId  rating\n  19720     129     1968     3.5),\n (131,\n         userId  movieId  rating\n  19857     131      296     4.0),\n (133,\n         userId  movieId  rating\n  20276     133      296     3.0),\n (136,\n         userId  movieId  rating\n  20676     136      296     1.0),\n (142,\n         userId  movieId  rating\n  21872     142      296     5.0),\n (143,\n         userId  movieId  rating\n  21903     143     1968     2.0),\n (151,\n         userId  movieId  rating\n  22303     151        1     5.0),\n (152,\n         userId  movieId  rating\n  22366     152      296     4.5),\n (161,\n         userId  movieId  rating\n  23663     161        1     4.0),\n (162,\n         userId  movieId  rating\n  23722     162      296     3.0),\n (168,\n         userId  movieId  rating\n  24230     168      296     4.5),\n (170,\n         userId  movieId  rating\n  24609     170      296     2.0),\n (173,\n         userId  movieId  rating\n  24756     173      296     1.0),\n (174,\n         userId  movieId  rating\n  24798     174      296     3.0),\n (176,\n         userId  movieId  rating\n  24875     176      296     3.0),\n (181,\n         userId  movieId  rating\n  26024     181      296     2.0),\n (185,\n         userId  movieId  rating\n  27260     185        1     4.0),\n (192,\n         userId  movieId  rating\n  28020     192      296     3.0),\n (199,\n         userId  movieId  rating\n  28592     199      296     4.0),\n (203,\n         userId  movieId  rating\n  29783     203      296     5.0),\n (204,\n         userId  movieId  rating\n  29828     204      296     4.5),\n (206,\n         userId  movieId  rating\n  29936     206        1     5.0),\n (210,\n         userId  movieId  rating\n  30044     210      296     0.5),\n (211,\n         userId  movieId  rating\n  30182     211      296     4.5),\n (213,\n         userId  movieId  rating\n  30517     213        1     3.5),\n (214,\n         userId  movieId  rating\n  30601     214        1     3.0),\n (224,\n         userId  movieId  rating\n  32938     224     1968     5.0),\n (227,\n         userId  movieId  rating\n  33559     227      296     4.5),\n (231,\n         userId  movieId  rating\n  33875     231      296     4.0),\n (234,\n         userId  movieId  rating\n  34910     234        1     5.0),\n (235,\n         userId  movieId  rating\n  35133     235      296     4.0),\n (241,\n         userId  movieId  rating\n  35711     241      296     4.5),\n (242,\n         userId  movieId  rating\n  35800     242      296     5.0),\n (246,\n         userId  movieId  rating\n  35979     246      296     4.0),\n (251,\n         userId  movieId  rating\n  37450     251      296     5.0),\n (252,\n         userId  movieId  rating\n  37470     252        1     4.5),\n (259,\n         userId  movieId  rating\n  37945     259        2     2.0),\n (261,\n         userId  movieId  rating\n  38130     261      296     5.0),\n (262,\n         userId  movieId  rating\n  38208     262      296     3.0),\n (264,\n         userId  movieId  rating\n  38446     264        1     4.0),\n (268,\n         userId  movieId  rating\n  38978     268     1968     2.0),\n (269,\n         userId  movieId  rating\n  39031     269        1     5.0),\n (270,\n         userId  movieId  rating\n  39060     270        1     5.0),\n (277,\n         userId  movieId  rating\n  41019     277        1     4.0),\n (280,\n         userId  movieId  rating\n  41243     280        1     4.5),\n (283,\n         userId  movieId  rating\n  41697     283        1     3.0),\n (286,\n         userId  movieId  rating\n  41866     286      296     5.0),\n (287,\n         userId  movieId  rating\n  42018     287     1968     4.5),\n (291,\n         userId  movieId  rating\n  43460     291        1     4.0),\n (293,\n         userId  movieId  rating\n  43937     293        1     3.0),\n (295,\n         userId  movieId  rating\n  44399     295      296     5.0),\n (296,\n         userId  movieId  rating\n  44438     296      296     4.5),\n (299,\n         userId  movieId  rating\n  45474     299        2     3.0),\n (301,\n         userId  movieId  rating\n  45542     301      296     4.5),\n (302,\n         userId  movieId  rating\n  45657     302      296     5.0),\n (308,\n         userId  movieId  rating\n  47708     308        2     3.0),\n (309,\n         userId  movieId  rating\n  47824     309      296     3.5),\n (317,\n         userId  movieId  rating\n  48809     317      296     5.0),\n (321,\n         userId  movieId  rating\n  49918     321        2     5.0),\n (326,\n         userId  movieId  rating\n  50477     326      296     4.0),\n (331,\n         userId  movieId  rating\n  51199     331      296     5.0),\n (335,\n         userId  movieId  rating\n  51812     335      296     5.0),\n (337,\n         userId  movieId  rating\n  51893     337        1     4.0),\n (338,\n         userId  movieId  rating\n  51971     338      296     4.5),\n (340,\n         userId  movieId  rating\n  52391     340      296     4.0),\n (341,\n         userId  movieId  rating\n  52408     341        1     5.0),\n (343,\n         userId  movieId  rating\n  52528     343      296     4.5),\n (348,\n         userId  movieId  rating\n  52928     348      296     5.0),\n (349,\n         userId  movieId  rating\n  52991     349      296     4.0),\n (350,\n         userId  movieId  rating\n  53017     350        1     4.0),\n (351,\n         userId  movieId  rating\n  53059     351      296     4.5),\n (352,\n         userId  movieId  rating\n  53201     352      296     5.0),\n (356,\n         userId  movieId  rating\n  53917     356     1968     3.5),\n (362,\n         userId  movieId  rating\n  54753     362      296     5.0),\n (363,\n         userId  movieId  rating\n  54856     363      296     5.0),\n (364,\n         userId  movieId  rating\n  54882     364        1     5.0),\n (365,\n         userId  movieId  rating\n  54924     365     1968     4.0),\n (371,\n         userId  movieId  rating\n  56095     371     1274     5.0),\n (374,\n         userId  movieId  rating\n  56472     374      296     5.0),\n (377,\n         userId  movieId  rating\n  56694     377     1274     5.0),\n (378,\n         userId  movieId  rating\n  56794     378        1     4.5),\n (379,\n         userId  movieId  rating\n  56855     379      296     2.0),\n (384,\n         userId  movieId  rating\n  58897     384      296     5.0),\n (386,\n         userId  movieId  rating\n  59198     386      296     5.0),\n (389,\n         userId  movieId  rating\n  60290     389        1     5.0),\n (396,\n         userId  movieId  rating\n  61023     396        1     5.0),\n (400,\n         userId  movieId  rating\n  61161     400      296     5.0),\n (401,\n         userId  movieId  rating\n  61199     401        1     3.5),\n (402,\n         userId  movieId  rating\n  61285     402      296     5.0),\n (403,\n         userId  movieId  rating\n  61322     403      296     5.0),\n (404,\n         userId  movieId  rating\n  61381     404      296     3.0),\n (405,\n         userId  movieId  rating\n  61425     405      296     4.5),\n (409,\n         userId  movieId  rating\n  61721     409      296     5.0),\n (410,\n         userId  movieId  rating\n  61853     410      296     2.0),\n (412,\n         userId  movieId  rating\n  62136     412        1     2.0),\n (413,\n         userId  movieId  rating\n  62239     413      296     5.0),\n (415,\n         userId  movieId  rating\n  65000     415      296     5.0),\n (416,\n         userId  movieId  rating\n  65089     416      296     4.0),\n (417,\n         userId  movieId  rating\n  65139     417      296     5.0),\n (418,\n         userId  movieId  rating\n  65206     418      296     4.5),\n (419,\n         userId  movieId  rating\n  65308     419      296     5.0),\n (423,\n         userId  movieId  rating\n  65726     423      296     4.5),\n (427,\n         userId  movieId  rating\n  66282     427      296     4.5),\n (433,\n         userId  movieId  rating\n  67061     433      296     5.0),\n (437,\n         userId  movieId  rating\n  67507     437      296     5.0),\n (438,\n         userId  movieId  rating\n  67583     438        1     4.5),\n (440,\n         userId  movieId  rating\n  68252     440     1274     3.0),\n (441,\n         userId  movieId  rating\n  68277     441      296     5.0),\n (444,\n         userId  movieId  rating\n  68393     444      296     5.0),\n (445,\n         userId  movieId  rating\n  68423     445      296     4.0),\n (451,\n         userId  movieId  rating\n  70608     451        1     5.0),\n (452,\n         userId  movieId  rating\n  70738     452     1968     5.0),\n (454,\n         userId  movieId  rating\n  71158     454      296     4.0),\n (456,\n         userId  movieId  rating\n  71257     456        1     5.0),\n (463,\n         userId  movieId  rating\n  72000     463      296     4.0),\n (464,\n         userId  movieId  rating\n  72047     464      296     4.5),\n (475,\n         userId  movieId  rating\n  75200     475        2     4.5),\n (479,\n         userId  movieId  rating\n  76102     479     1968     5.0),\n (486,\n         userId  movieId  rating\n  78273     486      296     5.0),\n (488,\n         userId  movieId  rating\n  78360     488        1     4.5),\n (492,\n         userId  movieId  rating\n  79296     492        1     4.0),\n (497,\n         userId  movieId  rating\n  79794     497        2     2.5),\n (498,\n         userId  movieId  rating\n  79860     498      296     4.0),\n (501,\n         userId  movieId  rating\n  79993     501        2     3.0),\n (513,\n         userId  movieId  rating\n  81057     513      296     4.5),\n (519,\n         userId  movieId  rating\n  81958     519     1968     3.0),\n (523,\n         userId  movieId  rating\n  82407     523        2     4.5),\n (524,\n         userId  movieId  rating\n  82482     524        1     4.0),\n (526,\n         userId  movieId  rating\n  83114     526      296     4.0),\n (529,\n         userId  movieId  rating\n  83411     529        1     3.0),\n (533,\n         userId  movieId  rating\n  83535     533        1     5.0),\n (540,\n         userId  movieId  rating\n  84288     540      296     5.0),\n (541,\n         userId  movieId  rating\n  84327     541        1     3.0),\n (542,\n         userId  movieId  rating\n  84417     542      296     3.5),\n (544,\n         userId  movieId  rating\n  84603     544        1     3.0),\n (550,\n         userId  movieId  rating\n  84780     550        1     4.0),\n (551,\n         userId  movieId  rating\n  84812     551      296     3.5),\n (552,\n         userId  movieId  rating\n  84939     552      296     4.0),\n (553,\n         userId  movieId  rating\n  85127     553      296     5.0),\n (564,\n         userId  movieId  rating\n  87542     564     1968     4.0),\n (565,\n         userId  movieId  rating\n  87698     565      296     5.0),\n (568,\n         userId  movieId  rating\n  88178     568      296     4.5),\n (569,\n         userId  movieId  rating\n  88205     569      296     5.0),\n (572,\n         userId  movieId  rating\n  88522     572        1     4.0),\n (574,\n         userId  movieId  rating\n  88985     574      296     3.0),\n (575,\n         userId  movieId  rating\n  88999     575      296     5.0),\n (577,\n         userId  movieId  rating\n  89155     577     1968     3.0),\n (579,\n         userId  movieId  rating\n  89243     579        1     4.0),\n (583,\n         userId  movieId  rating\n  89852     583      296     4.0),\n (585,\n         userId  movieId  rating\n  89992     585      296     5.0),\n (586,\n         userId  movieId  rating\n  90048     586        2     4.0),\n (588,\n         userId  movieId  rating\n  90451     588      296     5.0),\n (589,\n         userId  movieId  rating\n  90488     589      296     5.0),\n (593,\n         userId  movieId  rating\n  91443     593     1968     1.5),\n (594,\n         userId  movieId  rating\n  91496     594        2     4.0),\n (601,\n         userId  movieId  rating\n  95864     601        1     4.0)]"
     },
     "execution_count": 59,
     "metadata": {},
     "output_type": "execute_result"
    }
   ],
   "source": [
    "each_user_movies_ratings = user_movies_ratings.groupby('userId')\n",
    "each_user_movies_ratings = sorted(each_user_movies_ratings,  key=lambda x: len(x[1]), reverse=True)\n",
    "each_user_movies_ratings"
   ],
   "metadata": {
    "collapsed": false,
    "ExecuteTime": {
     "end_time": "2024-07-01T12:29:32.789740269Z",
     "start_time": "2024-07-01T12:29:32.445722309Z"
    }
   },
   "id": "958c73133b2364f3",
   "execution_count": 59
  },
  {
   "cell_type": "code",
   "outputs": [
    {
     "data": {
      "text/plain": "[(91,\n         userId  movieId  rating\n  14121      91        1     4.0\n  14122      91        2     3.0\n  14173      91      296     4.5\n  14316      91     1274     5.0\n  14383      91     1968     3.0),\n (177,\n         userId  movieId  rating\n  24900     177        1     5.0\n  24901     177        2     3.5\n  24930     177      296     5.0\n  25069     177     1274     2.0\n  25129     177     1968     3.5),\n (219,\n         userId  movieId  rating\n  31524     219        1     3.5\n  31525     219        2     2.5\n  31554     219      296     4.0\n  31628     219     1274     2.5\n  31680     219     1968     3.0),\n (274,\n         userId  movieId  rating\n  39229     274        1     4.0\n  39230     274        2     3.5\n  39288     274      296     5.0\n  39448     274     1274     4.0\n  39549     274     1968     4.0),\n (298,\n         userId  movieId  rating\n  44535     298        1     2.0\n  44536     298        2     0.5\n  44555     298      296     4.5\n  44620     298     1274     4.0\n  44655     298     1968     3.5),\n (414,\n         userId  movieId  rating\n  62294     414        1     4.0\n  62295     414        2     3.0\n  62425     414      296     5.0\n  62769     414     1274     4.0\n  62957     414     1968     5.0),\n (474,\n         userId  movieId  rating\n  73092     474        1     4.0\n  73093     474        2     3.0\n  73172     474      296     4.0\n  73466     474     1274     2.0\n  73641     474     1968     3.5),\n (477,\n         userId  movieId  rating\n  75424     477        1     4.0\n  75425     477        2     4.0\n  75447     477      296     4.5\n  75558     477     1274     5.0\n  75613     477     1968     4.0),\n (480,\n         userId  movieId  rating\n  76227     480        1     3.0\n  76228     480        2     3.0\n  76273     480      296     4.0\n  76396     480     1274     4.0\n  76462     480     1968     3.5),\n (483,\n         userId  movieId  rating\n  77222     483        1     4.0\n  77223     483        2     4.0\n  77265     483      296     5.0\n  77375     483     1274     3.5\n  77431     483     1968     3.5),\n (599,\n         userId  movieId  rating\n  92623     599        1     3.0\n  92624     599        2     2.5\n  92742     599      296     5.0\n  93073     599     1274     5.0\n  93269     599     1968     3.5),\n (608,\n         userId  movieId  rating\n  98666     608        1     2.5\n  98667     608        2     2.0\n  98723     608      296     5.0\n  98882     608     1274     4.0\n  98980     608     1968     4.0),\n (50,\n        userId  movieId  rating\n  7112      50        1     3.0\n  7116      50      296     4.0\n  7158      50     1274     4.0\n  7175      50     1968     2.5),\n (57,\n        userId  movieId  rating\n  8035      57        1     5.0\n  8071      57      296     3.0\n  8230      57     1274     3.0\n  8321      57     1968     4.0),\n (68,\n         userId  movieId  rating\n  10360      68        1     2.5\n  10361      68        2     2.5\n  10419      68      296     2.0\n  10679      68     1968     3.0),\n (103,\n         userId  movieId  rating\n  15565     103        1     4.0\n  15566     103        2     4.0\n  15587     103      296     5.0\n  15684     103     1968     4.0),\n (135,\n         userId  movieId  rating\n  20336     135        1     4.0\n  20337     135        2     3.0\n  20357     135      296     4.0\n  20482     135     1968     4.0),\n (182,\n         userId  movieId  rating\n  26092     182        1     4.0\n  26152     182      296     5.0\n  26301     182     1274     5.0\n  26418     182     1968     5.0),\n (202,\n         userId  movieId  rating\n  29378     202        1     4.0\n  29379     202        2     4.0\n  29401     202      296     4.0\n  29597     202     1968     5.0),\n (217,\n         userId  movieId  rating\n  30885     217        1     4.0\n  30886     217        2     2.0\n  30932     217      296     2.0\n  31224     217     1968     4.0),\n (226,\n         userId  movieId  rating\n  33044     226        1     3.5\n  33045     226        2     3.0\n  33083     226      296     4.5\n  33217     226     1968     4.0),\n (288,\n         userId  movieId  rating\n  42114     288        1     4.5\n  42115     288        2     2.0\n  42150     288      296     5.0\n  42438     288     1968     3.0),\n (307,\n         userId  movieId  rating\n  46733     307        1     4.0\n  46734     307        2     2.5\n  46790     307      296     4.5\n  47011     307     1968     4.5),\n (318,\n         userId  movieId  rating\n  48984     318        2     3.5\n  49009     318      296     4.5\n  49091     318     1274     5.0\n  49126     318     1968     3.5),\n (322,\n         userId  movieId  rating\n  49974     322        1     3.5\n  49975     322        2     3.0\n  49983     322      296     5.0\n  50026     322     1968     3.0),\n (330,\n         userId  movieId  rating\n  50948     330        1     4.0\n  50949     330        2     1.5\n  50975     330      296     4.0\n  51094     330     1968     5.0),\n (357,\n         userId  movieId  rating\n  54123     357        1     5.0\n  54124     357        2     3.0\n  54148     357      296     4.5\n  54290     357     1968     4.0),\n (434,\n         userId  movieId  rating\n  67080     434        1     4.0\n  67081     434        2     2.5\n  67100     434      296     5.0\n  67154     434     1274     5.0),\n (448,\n         userId  movieId  rating\n  68655     448        1     5.0\n  68656     448        2     3.0\n  68694     448      296     5.0\n  68943     448     1968     3.0),\n (469,\n         userId  movieId  rating\n  72453     469        1     4.0\n  72478     469      296     5.0\n  72613     469     1274     4.0\n  72696     469     1968     5.0),\n (561,\n         userId  movieId  rating\n  86582     561        1     4.0\n  86583     561        2     4.0\n  86601     561      296     4.5\n  86710     561     1968     4.0),\n (600,\n         userId  movieId  rating\n  95101     600        1     2.5\n  95102     600        2     4.0\n  95154     600      296     4.5\n  95306     600     1274     3.5),\n (606,\n         userId  movieId  rating\n  97364     606        1     2.5\n  97418     606      296     5.0\n  97592     606     1274     4.0\n  97692     606     1968     4.0),\n (610,\n         userId  movieId  rating\n  99534     610        1     5.0\n  99552     610      296     5.0\n  99636     610     1274     5.0\n  99664     610     1968     4.0),\n (18,\n        userId  movieId  rating\n  1772      18        1     3.5\n  1773      18        2     3.0\n  1796      18      296     4.0),\n (19,\n        userId  movieId  rating\n  2274      19        1     4.0\n  2275      19        2     3.0\n  2629      19     1968     2.0),\n (21,\n        userId  movieId  rating\n  3219      21        1     3.5\n  3220      21        2     3.5\n  3231      21      296     3.5),\n (45,\n        userId  movieId  rating\n  6477      45        1     4.0\n  6511      45      296     5.0\n  6662      45     1968     4.0),\n (63,\n        userId  movieId  rating\n  9157      63        1     5.0\n  9172      63      296     5.0\n  9242      63     1968     4.0),\n (64,\n        userId  movieId  rating\n  9428      64        1     4.0\n  9466      64      296     4.5\n  9622      64     1968     3.5),\n (66,\n         userId  movieId  rating\n  9979       66        1     4.0\n  10002      66      296     5.0\n  10128      66     1968     4.0),\n (107,\n         userId  movieId  rating\n  16970     107        1     4.0\n  16971     107        2     5.0\n  16992     107      296     3.0),\n (122,\n         userId  movieId  rating\n  18831     122        2     4.0\n  18845     122      296     5.0\n  18900     122     1968     4.5),\n (132,\n         userId  movieId  rating\n  19919     132        1     2.0\n  19946     132      296     4.0\n  20048     132     1968     4.0),\n (140,\n         userId  movieId  rating\n  21083     140        1     3.0\n  21084     140        2     3.5\n  21119     140      296     4.0),\n (141,\n         userId  movieId  rating\n  21691     141        1     4.0\n  21700     141      296     4.0\n  21734     141     1968     4.0),\n (144,\n         userId  movieId  rating\n  21968     144        1     3.5\n  21969     144        2     3.0\n  21989     144      296     4.0),\n (153,\n         userId  movieId  rating\n  22425     153        1     2.0\n  22426     153        2     2.0\n  22429     153      296     3.0),\n (156,\n         userId  movieId  rating\n  22684     156        1     4.0\n  22707     156      296     5.0\n  22891     156     1968     3.5),\n (160,\n         userId  movieId  rating\n  23226     160        1     4.0\n  23227     160        2     4.0\n  23264     160      296     5.0),\n (166,\n         userId  movieId  rating\n  23864     166        1     5.0\n  23874     166      296     4.5\n  23932     166     1968     2.5),\n (198,\n         userId  movieId  rating\n  28361     198      296     5.0\n  28417     198     1274     4.0\n  28454     198     1968     3.0),\n (200,\n         userId  movieId  rating\n  28934     200        1     3.5\n  28949     200      296     5.0\n  29025     200     1968     4.0),\n (201,\n         userId  movieId  rating\n  29268     201        1     5.0\n  29283     201      296     5.0\n  29337     201     1968     5.0),\n (232,\n         userId  movieId  rating\n  33898     232        1     3.5\n  33899     232        2     4.0\n  33913     232      296     5.0),\n (240,\n         userId  movieId  rating\n  35580     240        1     5.0\n  35581     240        2     5.0\n  35631     240      296     2.0),\n (249,\n         userId  movieId  rating\n  36374     249        1     4.0\n  36375     249        2     4.0\n  36398     249      296     4.0),\n (266,\n         userId  movieId  rating\n  38665     266        1     2.0\n  38687     266      296     5.0\n  38781     266     1968     2.0),\n (275,\n         userId  movieId  rating\n  40575     275        1     5.0\n  40596     275      296     5.0\n  40749     275     1968     4.0),\n (282,\n         userId  movieId  rating\n  41460     282        1     4.5\n  41472     282      296     4.0\n  41533     282     1968     4.0),\n (292,\n         userId  movieId  rating\n  43491     292        1     4.0\n  43505     292      296     3.0\n  43586     292     1968     3.0),\n (294,\n         userId  movieId  rating\n  43958     294        2     3.0\n  43990     294      296     4.0\n  44184     294     1968     3.0),\n (304,\n         userId  movieId  rating\n  45728     304        1     5.0\n  45729     304        2     4.0\n  45768     304      296     5.0),\n (305,\n         userId  movieId  rating\n  45944     305        2     3.5\n  45962     305      296     5.0\n  46076     305     1968     5.0),\n (313,\n         userId  movieId  rating\n  48261     313      296     5.0\n  48336     313     1274     5.0\n  48389     313     1968     2.0),\n (323,\n         userId  movieId  rating\n  50081     323        1     3.5\n  50082     323        2     4.0\n  50112     323      296     4.0),\n (328,\n         userId  movieId  rating\n  50670     328        1     5.0\n  50681     328      296     5.0\n  50765     328     1968     2.5),\n (353,\n         userId  movieId  rating\n  53492     353        1     5.0\n  53493     353        2     4.0\n  53547     353      296     5.0),\n (359,\n         userId  movieId  rating\n  54547     359        1     4.0\n  54548     359        2     3.5\n  54553     359      296     4.0),\n (372,\n         userId  movieId  rating\n  56128     372        1     3.0\n  56180     372      296     4.0\n  56313     372     1274     1.0),\n (373,\n         userId  movieId  rating\n  56364     373        1     3.0\n  56365     373        2     3.0\n  56415     373      296     5.0),\n (380,\n         userId  movieId  rating\n  56878     380        1     5.0\n  56879     380        2     5.0\n  56920     380      296     5.0),\n (381,\n         userId  movieId  rating\n  58096     381        1     3.5\n  58097     381        2     4.0\n  58212     381     1968     5.0),\n (387,\n         userId  movieId  rating\n  59269     387      296     5.0\n  59453     387     1274     4.5\n  59540     387     1968     3.5),\n (391,\n         userId  movieId  rating\n  60405     391        1     3.0\n  60430     391      296     5.0\n  60603     391     1968     4.0),\n (411,\n         userId  movieId  rating\n  62009     411        1     5.0\n  62010     411        2     4.0\n  62071     411      296     5.0),\n (425,\n         userId  movieId  rating\n  65884     425        2     3.0\n  65914     425      296     4.0\n  66035     425     1968     3.5),\n (432,\n         userId  movieId  rating\n  66798     432        1     2.5\n  66799     432        2     4.0\n  66814     432      296     2.5),\n (462,\n         userId  movieId  rating\n  71544     462        1     1.5\n  71563     462      296     2.5\n  71678     462     1968     4.0),\n (470,\n         userId  movieId  rating\n  72918     470        1     4.0\n  72919     470        2     3.0\n  72954     470      296     3.0),\n (476,\n         userId  movieId  rating\n  75355     476        1     4.0\n  75356     476        2     4.0\n  75380     476      296     3.0),\n (484,\n         userId  movieId  rating\n  77950     484        1     4.5\n  77951     484        2     2.5\n  78032     484     1968     4.0),\n (489,\n         userId  movieId  rating\n  78471     489        2     2.5\n  78512     489      296     4.0\n  78699     489     1968     4.0),\n (500,\n         userId  movieId  rating\n  79907     500        1     4.0\n  79942     500     1274     4.0\n  79957     500     1968     4.0),\n (504,\n         userId  movieId  rating\n  80168     504        1     4.0\n  80171     504      296     4.0\n  80184     504     1968     4.0),\n (514,\n         userId  movieId  rating\n  81082     514        1     4.0\n  81096     514      296     4.0\n  81190     514     1968     4.0),\n (525,\n         userId  movieId  rating\n  82613     525        1     4.0\n  82614     525        2     3.5\n  82713     525     1968     4.5),\n (555,\n         userId  movieId  rating\n  85291     555        1     4.0\n  85325     555      296     4.0\n  85541     555     1968     5.0),\n (559,\n         userId  movieId  rating\n  85984     559        1     5.0\n  85985     559        2     4.0\n  86029     559      296     3.0),\n (560,\n         userId  movieId  rating\n  86124     560        1     3.0\n  86140     560      296     4.0\n  86177     560     1274     3.5),\n (562,\n         userId  movieId  rating\n  87087     562        1     4.5\n  87093     562      296     5.0\n  87147     562     1968     5.0),\n (570,\n         userId  movieId  rating\n  88219     570        1     4.0\n  88220     570        2     3.5\n  88341     570     1968     4.0),\n (573,\n         userId  movieId  rating\n  88677     573        1     5.0\n  88678     573        2     4.5\n  88693     573      296     5.0),\n (590,\n         userId  movieId  rating\n  90517     590        1     4.0\n  90518     590        2     2.5\n  90546     590      296     4.5),\n (603,\n         userId  movieId  rating\n  96100     603        1     4.0\n  96171     603      296     5.0\n  96414     603     1274     1.0),\n (604,\n         userId  movieId  rating\n  97043     604        1     3.0\n  97044     604        2     5.0\n  97103     604      296     5.0),\n (605,\n         userId  movieId  rating\n  97143     605        1     4.0\n  97144     605        2     3.5\n  97151     605      296     2.0),\n (607,\n         userId  movieId  rating\n  98479     607        1     4.0\n  98496     607      296     3.0\n  98574     607     1968     5.0),\n (1,\n      userId  movieId  rating\n  0        1        1     4.0\n  16       1      296     3.0),\n (4,\n       userId  movieId  rating\n  320       4      296     1.0\n  422       4     1968     4.0)]"
     },
     "execution_count": 61,
     "metadata": {},
     "output_type": "execute_result"
    }
   ],
   "source": [
    "top_similar_users = each_user_movies_ratings[:100]\n",
    "top_similar_users"
   ],
   "metadata": {
    "collapsed": false,
    "ExecuteTime": {
     "end_time": "2024-07-01T12:29:49.067455184Z",
     "start_time": "2024-07-01T12:29:48.990005498Z"
    }
   },
   "id": "d1d9c7f4ae1117bd",
   "execution_count": 61
  },
  {
   "cell_type": "code",
   "outputs": [
    {
     "data": {
      "text/plain": "dict_items([(91, 0.43852900965351443), (177, 0.0), (219, 0.45124262819713973), (274, 0.716114874039432), (298, 0.9592712306918567), (414, 0.9376144618769914), (474, 0.11720180773462392), (477, 0.4385290096535153), (480, 0.7844645405527362), (483, 0.08006407690254357), (599, 0.7666866491579839), (608, 0.920736884379251), (50, 0.15713484026367722), (57, -0.7385489458759964), (68, 0.0), (103, 0.5222329678670935), (135, 0.8703882797784892), (182, 0.9428090415820635), (202, 0.5222329678670935), (217, 0.30151134457776363), (226, 0.9438798074485389), (288, 0.6005325641789633), (307, 0.9655810287305759), (318, 0.44486512077567225), (322, 0.5057805388588731), (330, 0.9035942578600878), (357, 0.5606119105813882), (434, 0.9864036607532465), (448, 0.30151134457776363), (469, 0.8164965809277261), (561, 0.5222329678670935), (600, 0.18442777839082938), (606, 0.9146591207600472), (610, -0.47140452079103173), (18, 1.0), (19, -0.5), (21, 0), (45, 0.5000000000000009), (63, -0.4999999999999982), (64, 0.0), (66, 0.5000000000000009), (107, -1.0), (122, 0.8660254037844387), (132, 1.0000000000000004), (140, 0.5), (141, 0), (144, 1.0), (153, 0.8660254037844379), (156, 0.1889822365046138), (160, 0.8660254037844402), (166, -0.6546536707079772), (198, 0.0), (200, 0.7559289460184552), (201, 0), (232, 0.6546536707079778), (240, -0.8660254037844386), (249, 0), (266, 0.5), (275, -0.4999999999999982), (282, -1.000000000000007), (292, -1.0000000000000018), (294, 0.5000000000000009), (304, 0.8660254037844356), (305, 1.0), (313, -0.4999999999999929), (323, 0.0), (328, -0.5000000000000002), (353, 0.8660254037844356), (359, 0.8660254037844448), (372, 0.142857142857144), (373, 0.866025403784439), (380, 0), (381, 0.6546536707079778), (387, -0.18898223650461649), (391, 0.8660254037844387), (411, 0.8660254037844356), (425, 0.8660254037844387), (432, -0.8660254037844386), (462, 0.8029550685469661), (470, 0.0), (476, -0.8660254037844402), (484, 0.7205766921228925), (489, 1.0), (500, 0), (504, 0), (514, 0), (525, 1.0), (555, 0.5000000000000009), (559, -0.5), (560, 0.9819805060619666), (562, 0.9999999999999858), (570, 0.8660254037844448), (573, 0.8660254037844264), (590, 0.9607689228305233), (603, 0.052414241836095235), (604, 0.0), (605, -0.7205766921228919), (607, 0.0), (1, -1.0), (4, 0)])"
     },
     "execution_count": 65,
     "metadata": {},
     "output_type": "execute_result"
    }
   ],
   "source": [
    "from math import sqrt\n",
    "pearsonCorrelationDict = {}\n",
    "\n",
    "for name, group in top_similar_users:\n",
    "    group = group.sort_values(by='movieId')\n",
    "    inputMovies = user_movies.sort_values(by='movieId')\n",
    "    nRatings = len(group)\n",
    "    temp_df = inputMovies[inputMovies['movieId'].isin(group['movieId'].tolist())]\n",
    "    tempRatingList = temp_df['rating'].tolist()\n",
    "    tempGroupList = group['rating'].tolist()\n",
    "    Sxx = sum([i**2 for i in tempRatingList]) - pow(sum(tempRatingList),2)/float(nRatings)\n",
    "    Syy = sum([i**2 for i in tempGroupList]) - pow(sum(tempGroupList),2)/float(nRatings)\n",
    "    Sxy = sum( i*j for i, j in zip(tempRatingList, tempGroupList)) - sum(tempRatingList)*sum(tempGroupList)/float(nRatings)\n",
    "\n",
    "    #If the denominator is different than zero, then divide, else, 0 correlation.\n",
    "    if Sxx != 0 and Syy != 0:\n",
    "        pearsonCorrelationDict[name] = Sxy/sqrt(Sxx*Syy)\n",
    "    else:\n",
    "        pearsonCorrelationDict[name] = 0\n",
    "        \n",
    "pearsonCorrelationDict.items()"
   ],
   "metadata": {
    "collapsed": false,
    "ExecuteTime": {
     "end_time": "2024-07-01T12:30:48.197854295Z",
     "start_time": "2024-07-01T12:30:48.122834600Z"
    }
   },
   "id": "6ad6a455e824908c",
   "execution_count": 65
  },
  {
   "cell_type": "code",
   "outputs": [
    {
     "data": {
      "text/plain": "   similarityIndex  userId\n0         0.438529      91\n1         0.000000     177\n2         0.451243     219\n3         0.716115     274\n4         0.959271     298",
      "text/html": "<div>\n<style scoped>\n    .dataframe tbody tr th:only-of-type {\n        vertical-align: middle;\n    }\n\n    .dataframe tbody tr th {\n        vertical-align: top;\n    }\n\n    .dataframe thead th {\n        text-align: right;\n    }\n</style>\n<table border=\"1\" class=\"dataframe\">\n  <thead>\n    <tr style=\"text-align: right;\">\n      <th></th>\n      <th>similarityIndex</th>\n      <th>userId</th>\n    </tr>\n  </thead>\n  <tbody>\n    <tr>\n      <th>0</th>\n      <td>0.438529</td>\n      <td>91</td>\n    </tr>\n    <tr>\n      <th>1</th>\n      <td>0.000000</td>\n      <td>177</td>\n    </tr>\n    <tr>\n      <th>2</th>\n      <td>0.451243</td>\n      <td>219</td>\n    </tr>\n    <tr>\n      <th>3</th>\n      <td>0.716115</td>\n      <td>274</td>\n    </tr>\n    <tr>\n      <th>4</th>\n      <td>0.959271</td>\n      <td>298</td>\n    </tr>\n  </tbody>\n</table>\n</div>"
     },
     "execution_count": 66,
     "metadata": {},
     "output_type": "execute_result"
    }
   ],
   "source": [
    "pearsonDF = pd.DataFrame.from_dict(pearsonCorrelationDict, orient='index')\n",
    "pearsonDF.columns = ['similarityIndex']\n",
    "pearsonDF['userId'] = pearsonDF.index\n",
    "pearsonDF.index = range(len(pearsonDF))\n",
    "pearsonDF.head()"
   ],
   "metadata": {
    "collapsed": false,
    "ExecuteTime": {
     "end_time": "2024-07-01T12:31:00.272560952Z",
     "start_time": "2024-07-01T12:31:00.223519167Z"
    }
   },
   "id": "24ca8316a9520923",
   "execution_count": 66
  },
  {
   "cell_type": "code",
   "outputs": [
    {
     "data": {
      "text/plain": "    similarityIndex  userId\n43              1.0     132\n82              1.0     489\n34              1.0      18\n46              1.0     144\n63              1.0     305",
      "text/html": "<div>\n<style scoped>\n    .dataframe tbody tr th:only-of-type {\n        vertical-align: middle;\n    }\n\n    .dataframe tbody tr th {\n        vertical-align: top;\n    }\n\n    .dataframe thead th {\n        text-align: right;\n    }\n</style>\n<table border=\"1\" class=\"dataframe\">\n  <thead>\n    <tr style=\"text-align: right;\">\n      <th></th>\n      <th>similarityIndex</th>\n      <th>userId</th>\n    </tr>\n  </thead>\n  <tbody>\n    <tr>\n      <th>43</th>\n      <td>1.0</td>\n      <td>132</td>\n    </tr>\n    <tr>\n      <th>82</th>\n      <td>1.0</td>\n      <td>489</td>\n    </tr>\n    <tr>\n      <th>34</th>\n      <td>1.0</td>\n      <td>18</td>\n    </tr>\n    <tr>\n      <th>46</th>\n      <td>1.0</td>\n      <td>144</td>\n    </tr>\n    <tr>\n      <th>63</th>\n      <td>1.0</td>\n      <td>305</td>\n    </tr>\n  </tbody>\n</table>\n</div>"
     },
     "execution_count": 67,
     "metadata": {},
     "output_type": "execute_result"
    }
   ],
   "source": [
    "topUsers=pearsonDF.sort_values(by='similarityIndex', ascending=False)[0:50]\n",
    "topUsers.head()"
   ],
   "metadata": {
    "collapsed": false,
    "ExecuteTime": {
     "end_time": "2024-07-01T12:31:10.861808833Z",
     "start_time": "2024-07-01T12:31:10.808580745Z"
    }
   },
   "id": "f61219f8b7d9fb4d",
   "execution_count": 67
  },
  {
   "cell_type": "code",
   "outputs": [
    {
     "data": {
      "text/plain": "array([132, 489,  18, 144, 305, 525, 562, 434, 560, 307, 590, 298, 226,\n       182, 414, 608, 606, 330, 135, 359, 570, 160, 373, 425, 122, 391,\n       153, 411, 353, 304, 573, 469, 462, 480, 599, 200, 484, 274, 232,\n       381, 288, 357, 561, 202, 103, 322, 555,  45,  66, 294])"
     },
     "execution_count": 74,
     "metadata": {},
     "output_type": "execute_result"
    }
   ],
   "source": [
    "topUsers.userId.values"
   ],
   "metadata": {
    "collapsed": false,
    "ExecuteTime": {
     "end_time": "2024-07-01T12:32:30.931562665Z",
     "start_time": "2024-07-01T12:32:30.900375121Z"
    }
   },
   "id": "c98c74c6f65c2a25",
   "execution_count": 74
  },
  {
   "cell_type": "code",
   "outputs": [
    {
     "data": {
      "text/plain": "   similarityIndex  userId  movieId  rating\n0              1.0     132        1     2.0\n1              1.0     132       17     3.0\n2              1.0     132       29     2.0\n3              1.0     132       32     3.0\n4              1.0     132       34     1.5",
      "text/html": "<div>\n<style scoped>\n    .dataframe tbody tr th:only-of-type {\n        vertical-align: middle;\n    }\n\n    .dataframe tbody tr th {\n        vertical-align: top;\n    }\n\n    .dataframe thead th {\n        text-align: right;\n    }\n</style>\n<table border=\"1\" class=\"dataframe\">\n  <thead>\n    <tr style=\"text-align: right;\">\n      <th></th>\n      <th>similarityIndex</th>\n      <th>userId</th>\n      <th>movieId</th>\n      <th>rating</th>\n    </tr>\n  </thead>\n  <tbody>\n    <tr>\n      <th>0</th>\n      <td>1.0</td>\n      <td>132</td>\n      <td>1</td>\n      <td>2.0</td>\n    </tr>\n    <tr>\n      <th>1</th>\n      <td>1.0</td>\n      <td>132</td>\n      <td>17</td>\n      <td>3.0</td>\n    </tr>\n    <tr>\n      <th>2</th>\n      <td>1.0</td>\n      <td>132</td>\n      <td>29</td>\n      <td>2.0</td>\n    </tr>\n    <tr>\n      <th>3</th>\n      <td>1.0</td>\n      <td>132</td>\n      <td>32</td>\n      <td>3.0</td>\n    </tr>\n    <tr>\n      <th>4</th>\n      <td>1.0</td>\n      <td>132</td>\n      <td>34</td>\n      <td>1.5</td>\n    </tr>\n  </tbody>\n</table>\n</div>"
     },
     "execution_count": 75,
     "metadata": {},
     "output_type": "execute_result"
    }
   ],
   "source": [
    "topUsersRating=topUsers.merge(ratings, left_on='userId', right_on='userId', how='inner')\n",
    "topUsersRating.head()"
   ],
   "metadata": {
    "collapsed": false,
    "ExecuteTime": {
     "end_time": "2024-07-01T12:32:43.725455608Z",
     "start_time": "2024-07-01T12:32:43.674601491Z"
    }
   },
   "id": "e62eab99cba54818",
   "execution_count": 75
  },
  {
   "cell_type": "code",
   "outputs": [
    {
     "data": {
      "text/plain": "   similarityIndex  userId  movieId  rating  weightedRating\n0              1.0     132        1     2.0             2.0\n1              1.0     132       17     3.0             3.0\n2              1.0     132       29     2.0             2.0\n3              1.0     132       32     3.0             3.0\n4              1.0     132       34     1.5             1.5",
      "text/html": "<div>\n<style scoped>\n    .dataframe tbody tr th:only-of-type {\n        vertical-align: middle;\n    }\n\n    .dataframe tbody tr th {\n        vertical-align: top;\n    }\n\n    .dataframe thead th {\n        text-align: right;\n    }\n</style>\n<table border=\"1\" class=\"dataframe\">\n  <thead>\n    <tr style=\"text-align: right;\">\n      <th></th>\n      <th>similarityIndex</th>\n      <th>userId</th>\n      <th>movieId</th>\n      <th>rating</th>\n      <th>weightedRating</th>\n    </tr>\n  </thead>\n  <tbody>\n    <tr>\n      <th>0</th>\n      <td>1.0</td>\n      <td>132</td>\n      <td>1</td>\n      <td>2.0</td>\n      <td>2.0</td>\n    </tr>\n    <tr>\n      <th>1</th>\n      <td>1.0</td>\n      <td>132</td>\n      <td>17</td>\n      <td>3.0</td>\n      <td>3.0</td>\n    </tr>\n    <tr>\n      <th>2</th>\n      <td>1.0</td>\n      <td>132</td>\n      <td>29</td>\n      <td>2.0</td>\n      <td>2.0</td>\n    </tr>\n    <tr>\n      <th>3</th>\n      <td>1.0</td>\n      <td>132</td>\n      <td>32</td>\n      <td>3.0</td>\n      <td>3.0</td>\n    </tr>\n    <tr>\n      <th>4</th>\n      <td>1.0</td>\n      <td>132</td>\n      <td>34</td>\n      <td>1.5</td>\n      <td>1.5</td>\n    </tr>\n  </tbody>\n</table>\n</div>"
     },
     "execution_count": 76,
     "metadata": {},
     "output_type": "execute_result"
    }
   ],
   "source": [
    "topUsersRating['weightedRating'] = topUsersRating['similarityIndex']*topUsersRating['rating']\n",
    "topUsersRating.head()"
   ],
   "metadata": {
    "collapsed": false,
    "ExecuteTime": {
     "end_time": "2024-07-01T12:32:55.088167176Z",
     "start_time": "2024-07-01T12:32:55.040618125Z"
    }
   },
   "id": "75357cffad07e00a",
   "execution_count": 76
  },
  {
   "cell_type": "code",
   "outputs": [
    {
     "data": {
      "text/plain": "         sum_similarityIndex  sum_weightedRating\nmovieId                                         \n1                  36.354096          133.167946\n2                  31.005292           94.904257\n3                   8.783859           26.381456\n4                   0.866025            1.732051\n5                   7.165336           19.775255",
      "text/html": "<div>\n<style scoped>\n    .dataframe tbody tr th:only-of-type {\n        vertical-align: middle;\n    }\n\n    .dataframe tbody tr th {\n        vertical-align: top;\n    }\n\n    .dataframe thead th {\n        text-align: right;\n    }\n</style>\n<table border=\"1\" class=\"dataframe\">\n  <thead>\n    <tr style=\"text-align: right;\">\n      <th></th>\n      <th>sum_similarityIndex</th>\n      <th>sum_weightedRating</th>\n    </tr>\n    <tr>\n      <th>movieId</th>\n      <th></th>\n      <th></th>\n    </tr>\n  </thead>\n  <tbody>\n    <tr>\n      <th>1</th>\n      <td>36.354096</td>\n      <td>133.167946</td>\n    </tr>\n    <tr>\n      <th>2</th>\n      <td>31.005292</td>\n      <td>94.904257</td>\n    </tr>\n    <tr>\n      <th>3</th>\n      <td>8.783859</td>\n      <td>26.381456</td>\n    </tr>\n    <tr>\n      <th>4</th>\n      <td>0.866025</td>\n      <td>1.732051</td>\n    </tr>\n    <tr>\n      <th>5</th>\n      <td>7.165336</td>\n      <td>19.775255</td>\n    </tr>\n  </tbody>\n</table>\n</div>"
     },
     "execution_count": 77,
     "metadata": {},
     "output_type": "execute_result"
    }
   ],
   "source": [
    "tempTopUsersRating = topUsersRating.groupby('movieId').sum()[['similarityIndex','weightedRating']]\n",
    "tempTopUsersRating.columns = ['sum_similarityIndex','sum_weightedRating']\n",
    "tempTopUsersRating.head()"
   ],
   "metadata": {
    "collapsed": false,
    "ExecuteTime": {
     "end_time": "2024-07-01T12:33:05.581975502Z",
     "start_time": "2024-07-01T12:33:05.518344883Z"
    }
   },
   "id": "463d4e0c06a958a8",
   "execution_count": 77
  },
  {
   "cell_type": "code",
   "outputs": [
    {
     "data": {
      "text/plain": "         weighted average recommendation score  movieId\nmovieId                                                \n1                                     3.663080        1\n2                                     3.060905        2\n3                                     3.003402        3\n4                                     2.000000        4\n5                                     2.759850        5",
      "text/html": "<div>\n<style scoped>\n    .dataframe tbody tr th:only-of-type {\n        vertical-align: middle;\n    }\n\n    .dataframe tbody tr th {\n        vertical-align: top;\n    }\n\n    .dataframe thead th {\n        text-align: right;\n    }\n</style>\n<table border=\"1\" class=\"dataframe\">\n  <thead>\n    <tr style=\"text-align: right;\">\n      <th></th>\n      <th>weighted average recommendation score</th>\n      <th>movieId</th>\n    </tr>\n    <tr>\n      <th>movieId</th>\n      <th></th>\n      <th></th>\n    </tr>\n  </thead>\n  <tbody>\n    <tr>\n      <th>1</th>\n      <td>3.663080</td>\n      <td>1</td>\n    </tr>\n    <tr>\n      <th>2</th>\n      <td>3.060905</td>\n      <td>2</td>\n    </tr>\n    <tr>\n      <th>3</th>\n      <td>3.003402</td>\n      <td>3</td>\n    </tr>\n    <tr>\n      <th>4</th>\n      <td>2.000000</td>\n      <td>4</td>\n    </tr>\n    <tr>\n      <th>5</th>\n      <td>2.759850</td>\n      <td>5</td>\n    </tr>\n  </tbody>\n</table>\n</div>"
     },
     "execution_count": 78,
     "metadata": {},
     "output_type": "execute_result"
    }
   ],
   "source": [
    "recommendation_df = pd.DataFrame()\n",
    "#Now we take the weighted average\n",
    "recommendation_df['weighted average recommendation score'] = tempTopUsersRating['sum_weightedRating']/tempTopUsersRating['sum_similarityIndex']\n",
    "recommendation_df['movieId'] = tempTopUsersRating.index\n",
    "recommendation_df.head()"
   ],
   "metadata": {
    "collapsed": false,
    "ExecuteTime": {
     "end_time": "2024-07-01T12:33:16.875040324Z",
     "start_time": "2024-07-01T12:33:16.826310469Z"
    }
   },
   "id": "52bcf77725fe3cf9",
   "execution_count": 78
  },
  {
   "cell_type": "code",
   "outputs": [
    {
     "data": {
      "text/plain": "         weighted average recommendation score  movieId\nmovieId                                                \n905                                        5.0      905\n7579                                       5.0     7579\n1211                                       5.0     1211\n3310                                       5.0     3310\n100556                                     5.0   100556\n89759                                      5.0    89759\n148671                                     5.0   148671\n152711                                     5.0   152711\n55908                                      5.0    55908\n105585                                     5.0   105585",
      "text/html": "<div>\n<style scoped>\n    .dataframe tbody tr th:only-of-type {\n        vertical-align: middle;\n    }\n\n    .dataframe tbody tr th {\n        vertical-align: top;\n    }\n\n    .dataframe thead th {\n        text-align: right;\n    }\n</style>\n<table border=\"1\" class=\"dataframe\">\n  <thead>\n    <tr style=\"text-align: right;\">\n      <th></th>\n      <th>weighted average recommendation score</th>\n      <th>movieId</th>\n    </tr>\n    <tr>\n      <th>movieId</th>\n      <th></th>\n      <th></th>\n    </tr>\n  </thead>\n  <tbody>\n    <tr>\n      <th>905</th>\n      <td>5.0</td>\n      <td>905</td>\n    </tr>\n    <tr>\n      <th>7579</th>\n      <td>5.0</td>\n      <td>7579</td>\n    </tr>\n    <tr>\n      <th>1211</th>\n      <td>5.0</td>\n      <td>1211</td>\n    </tr>\n    <tr>\n      <th>3310</th>\n      <td>5.0</td>\n      <td>3310</td>\n    </tr>\n    <tr>\n      <th>100556</th>\n      <td>5.0</td>\n      <td>100556</td>\n    </tr>\n    <tr>\n      <th>89759</th>\n      <td>5.0</td>\n      <td>89759</td>\n    </tr>\n    <tr>\n      <th>148671</th>\n      <td>5.0</td>\n      <td>148671</td>\n    </tr>\n    <tr>\n      <th>152711</th>\n      <td>5.0</td>\n      <td>152711</td>\n    </tr>\n    <tr>\n      <th>55908</th>\n      <td>5.0</td>\n      <td>55908</td>\n    </tr>\n    <tr>\n      <th>105585</th>\n      <td>5.0</td>\n      <td>105585</td>\n    </tr>\n  </tbody>\n</table>\n</div>"
     },
     "execution_count": 79,
     "metadata": {},
     "output_type": "execute_result"
    }
   ],
   "source": [
    "recommendation_df = recommendation_df.sort_values(by='weighted average recommendation score', ascending=False)\n",
    "recommendation_df.head(10)"
   ],
   "metadata": {
    "collapsed": false,
    "ExecuteTime": {
     "end_time": "2024-07-01T12:33:28.520153687Z",
     "start_time": "2024-07-01T12:33:28.466082157Z"
    }
   },
   "id": "6cb9af70a33f771",
   "execution_count": 79
  },
  {
   "cell_type": "code",
   "outputs": [
    {
     "data": {
      "text/plain": "      movieId                                      title  year\n687       905                      It Happened One Night  1934\n912      1211  Wings of Desire (Himmel über Berlin, Der)  1987\n2484     3310                                   Kid, The  1921\n4969     7579                        Pride and Prejudice  1940\n6618    55908                        Man from Earth, The  2007\n7695    89759    Separation, A (Jodaeiye Nader az Simin)  2011\n8107   100556                        Act of Killing, The  2012\n8276   105585                  Machete Kills (Machete 2)  2013\n9166   148671                                        Saw  2003\n9234   152711                    Who Killed Chea Vichea?  2010",
      "text/html": "<div>\n<style scoped>\n    .dataframe tbody tr th:only-of-type {\n        vertical-align: middle;\n    }\n\n    .dataframe tbody tr th {\n        vertical-align: top;\n    }\n\n    .dataframe thead th {\n        text-align: right;\n    }\n</style>\n<table border=\"1\" class=\"dataframe\">\n  <thead>\n    <tr style=\"text-align: right;\">\n      <th></th>\n      <th>movieId</th>\n      <th>title</th>\n      <th>year</th>\n    </tr>\n  </thead>\n  <tbody>\n    <tr>\n      <th>687</th>\n      <td>905</td>\n      <td>It Happened One Night</td>\n      <td>1934</td>\n    </tr>\n    <tr>\n      <th>912</th>\n      <td>1211</td>\n      <td>Wings of Desire (Himmel über Berlin, Der)</td>\n      <td>1987</td>\n    </tr>\n    <tr>\n      <th>2484</th>\n      <td>3310</td>\n      <td>Kid, The</td>\n      <td>1921</td>\n    </tr>\n    <tr>\n      <th>4969</th>\n      <td>7579</td>\n      <td>Pride and Prejudice</td>\n      <td>1940</td>\n    </tr>\n    <tr>\n      <th>6618</th>\n      <td>55908</td>\n      <td>Man from Earth, The</td>\n      <td>2007</td>\n    </tr>\n    <tr>\n      <th>7695</th>\n      <td>89759</td>\n      <td>Separation, A (Jodaeiye Nader az Simin)</td>\n      <td>2011</td>\n    </tr>\n    <tr>\n      <th>8107</th>\n      <td>100556</td>\n      <td>Act of Killing, The</td>\n      <td>2012</td>\n    </tr>\n    <tr>\n      <th>8276</th>\n      <td>105585</td>\n      <td>Machete Kills (Machete 2)</td>\n      <td>2013</td>\n    </tr>\n    <tr>\n      <th>9166</th>\n      <td>148671</td>\n      <td>Saw</td>\n      <td>2003</td>\n    </tr>\n    <tr>\n      <th>9234</th>\n      <td>152711</td>\n      <td>Who Killed Chea Vichea?</td>\n      <td>2010</td>\n    </tr>\n  </tbody>\n</table>\n</div>"
     },
     "execution_count": 81,
     "metadata": {},
     "output_type": "execute_result"
    }
   ],
   "source": [
    "movies[movies['movieId'].isin(recommendation_df.head(10)['movieId'].tolist())]\n"
   ],
   "metadata": {
    "collapsed": false,
    "ExecuteTime": {
     "end_time": "2024-07-01T12:42:53.111114812Z",
     "start_time": "2024-07-01T12:42:53.071990339Z"
    }
   },
   "id": "19529744c3871079",
   "execution_count": 81
  },
  {
   "cell_type": "code",
   "outputs": [],
   "source": [],
   "metadata": {
    "collapsed": false
   },
   "id": "ec621cbed32468d7"
  }
 ],
 "metadata": {
  "kernelspec": {
   "display_name": "Python 3",
   "language": "python",
   "name": "python3"
  },
  "language_info": {
   "codemirror_mode": {
    "name": "ipython",
    "version": 2
   },
   "file_extension": ".py",
   "mimetype": "text/x-python",
   "name": "python",
   "nbconvert_exporter": "python",
   "pygments_lexer": "ipython2",
   "version": "2.7.6"
  }
 },
 "nbformat": 4,
 "nbformat_minor": 5
}
